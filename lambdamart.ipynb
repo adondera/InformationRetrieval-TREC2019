{
 "cells": [
  {
   "cell_type": "code",
   "execution_count": 1,
   "metadata": {
    "collapsed": true
   },
   "outputs": [],
   "source": [
    "import numpy as np\n",
    "import pandas as pd\n",
    "import lightgbm"
   ]
  },
  {
   "cell_type": "code",
   "execution_count": 43,
   "outputs": [],
   "source": [
    "df = pd.read_csv('X_train_100.csv')\n",
    "nbr_of_rows = len(df)\n",
    "split_point = int(nbr_of_rows / 10 * 8)\n",
    "train_df = df[:split_point]  # first 80%\n",
    "validation_df = df[split_point:]  # remaining 20%"
   ],
   "metadata": {
    "collapsed": false,
    "pycharm": {
     "name": "#%%\n"
    }
   }
  },
  {
   "cell_type": "code",
   "execution_count": 44,
   "outputs": [],
   "source": [
    "qids_train = train_df.groupby(\"q_id\")[\"q_id\"].count().to_numpy()\n",
    "X_train = train_df.drop([\"q_id\", \"rel\"], axis=1)\n",
    "y_train = train_df[\"rel\"]\n",
    "qids_validation = validation_df.groupby(\"q_id\")[\"q_id\"].count().to_numpy()\n",
    "X_validation = validation_df.drop([\"q_id\", \"rel\"], axis=1)\n",
    "y_validation = validation_df[\"rel\"]"
   ],
   "metadata": {
    "collapsed": false,
    "pycharm": {
     "name": "#%%\n"
    }
   }
  },
  {
   "cell_type": "code",
   "execution_count": 45,
   "outputs": [
    {
     "name": "stderr",
     "output_type": "stream",
     "text": [
      "C:\\Users\\Alin\\Anaconda3\\envs\\pytorch\\lib\\site-packages\\lightgbm\\sklearn.py:621: UserWarning: Found 'ndcg_eval_at' in params. Will use it instead of 'eval_at' argument\n",
      "  _log_warning(f\"Found '{alias}' in params. Will use it instead of 'eval_at' argument\")\n",
      "C:\\Users\\Alin\\Anaconda3\\envs\\pytorch\\lib\\site-packages\\lightgbm\\sklearn.py:736: UserWarning: 'verbose' argument is deprecated and will be removed in a future release of LightGBM. Pass 'log_evaluation()' callback via 'callbacks' argument instead.\n",
      "  _log_warning(\"'verbose' argument is deprecated and will be removed in a future release of LightGBM. \"\n"
     ]
    },
    {
     "name": "stdout",
     "output_type": "stream",
     "text": [
      "[10]\tvalid_0's ndcg@10: 0.125583\tvalid_0's ndcg@100: 0.248142\n",
      "[20]\tvalid_0's ndcg@10: 0.15046\tvalid_0's ndcg@100: 0.268183\n",
      "[30]\tvalid_0's ndcg@10: 0.1592\tvalid_0's ndcg@100: 0.291234\n",
      "[40]\tvalid_0's ndcg@10: 0.153797\tvalid_0's ndcg@100: 0.284081\n",
      "[50]\tvalid_0's ndcg@10: 0.179119\tvalid_0's ndcg@100: 0.295553\n",
      "[60]\tvalid_0's ndcg@10: 0.164273\tvalid_0's ndcg@100: 0.280886\n",
      "[70]\tvalid_0's ndcg@10: 0.166464\tvalid_0's ndcg@100: 0.281745\n",
      "[80]\tvalid_0's ndcg@10: 0.149819\tvalid_0's ndcg@100: 0.278773\n",
      "[90]\tvalid_0's ndcg@10: 0.166766\tvalid_0's ndcg@100: 0.29666\n",
      "[100]\tvalid_0's ndcg@10: 0.178029\tvalid_0's ndcg@100: 0.308604\n"
     ]
    },
    {
     "data": {
      "text/plain": "LGBMRanker(metric='ndcg', ndcg_eval_at=[10, 100], objective='lambdarank')"
     },
     "execution_count": 45,
     "metadata": {},
     "output_type": "execute_result"
    }
   ],
   "source": [
    "model = lightgbm.LGBMRanker(\n",
    "    objective=\"lambdarank\",\n",
    "    metric=\"ndcg\",\n",
    "    ndcg_eval_at=[10, 100]\n",
    ")\n",
    "\n",
    "model.fit(\n",
    "    X=X_train,\n",
    "    y=y_train,\n",
    "    group=qids_train,\n",
    "    eval_set=[(X_validation, y_validation)],\n",
    "    eval_group=[qids_validation],\n",
    "    eval_at=10  ,\n",
    "    verbose=10,\n",
    ")"
   ],
   "metadata": {
    "collapsed": false,
    "pycharm": {
     "name": "#%%\n"
    }
   }
  },
  {
   "cell_type": "code",
   "execution_count": 33,
   "outputs": [
    {
     "data": {
      "text/plain": "{'boosting_type': 'gbdt',\n 'objective': 'lambdarank',\n 'num_leaves': 31,\n 'max_depth': -1,\n 'learning_rate': 0.1,\n 'n_estimators': 100,\n 'subsample_for_bin': 200000,\n 'min_split_gain': 0.0,\n 'min_child_weight': 0.001,\n 'min_child_samples': 20,\n 'subsample': 1.0,\n 'subsample_freq': 0,\n 'colsample_bytree': 1.0,\n 'reg_alpha': 0.0,\n 'reg_lambda': 0.0,\n 'random_state': None,\n 'n_jobs': -1,\n 'silent': 'warn',\n 'importance_type': 'split',\n '_Booster': <lightgbm.basic.Booster at 0x1506a0a4220>,\n '_evals_result': {'valid_0': OrderedDict([('ndcg@10',\n                [0.15171806701280738,\n                 0.27047542032410626,\n                 0.2773400234703826,\n                 0.28207497689629635,\n                 0.2829707624273623,\n                 0.2778157599116986,\n                 0.26876370667502597,\n                 0.2805690993325631,\n                 0.28937136150777326,\n                 0.28740766777704574,\n                 0.2884507774688217,\n                 0.2877358443562962,\n                 0.28924181685040934,\n                 0.29036397821553644,\n                 0.3012330462760718,\n                 0.2987684736734469,\n                 0.30018103140588187,\n                 0.3033154182707203,\n                 0.3102936424531028,\n                 0.3093297733012264,\n                 0.3075903478724233,\n                 0.3087109895490298,\n                 0.31495143215616234,\n                 0.31685131446341974,\n                 0.314455600842404,\n                 0.31449360353074146,\n                 0.31585936186245117,\n                 0.3114684385677942,\n                 0.3085150380179435,\n                 0.31846787825144185,\n                 0.32063624157967796,\n                 0.3239311745791899,\n                 0.3256306352707846,\n                 0.32730696360911005,\n                 0.3278850481318156,\n                 0.3261136738679344,\n                 0.33061515975350714,\n                 0.3281179788444898,\n                 0.33189216650417985,\n                 0.3318569175573707,\n                 0.32743899748907773,\n                 0.32554994098521756,\n                 0.3196153799166044,\n                 0.3183782502805775,\n                 0.31213749384402123,\n                 0.31565310860765816,\n                 0.3170988622179556,\n                 0.3193946875600078,\n                 0.32481716496227775,\n                 0.3218533221130811,\n                 0.3225732662244004,\n                 0.3206333026319605,\n                 0.3206078461671171,\n                 0.32090218562359624,\n                 0.3202561765924322,\n                 0.3227546232364355,\n                 0.3193341714012471,\n                 0.3219661716535863,\n                 0.3235483730779889,\n                 0.320399151918757,\n                 0.3200627916908825,\n                 0.31519235762884656,\n                 0.3120364218454032,\n                 0.31099165005521545,\n                 0.31751341083659207,\n                 0.314017780187225,\n                 0.3123018000424249,\n                 0.31109291602652234,\n                 0.3063927709543898,\n                 0.3052569658752207,\n                 0.304051558867411,\n                 0.30246418522122165,\n                 0.30115767033486684,\n                 0.3013274178887048,\n                 0.30353041282560633,\n                 0.30304513985510195,\n                 0.3037488289207422,\n                 0.3017255978454051,\n                 0.30182742089078446,\n                 0.30129077469825105,\n                 0.30274879714424147,\n                 0.2963777355082921,\n                 0.29891542857465647,\n                 0.299262938369334,\n                 0.2969014619264421,\n                 0.29816079295170084,\n                 0.2979671306623501,\n                 0.2971196880955919,\n                 0.2986224820892657,\n                 0.2967961713661562,\n                 0.29433898282012066,\n                 0.29356996478339,\n                 0.2856042493022894,\n                 0.2888041969523106,\n                 0.2910550986557723,\n                 0.2891144186637894,\n                 0.2903772955336835,\n                 0.29045507163978695,\n                 0.2847789190292916,\n                 0.28690011977703167]),\n               ('ndcg@100',\n                [0.29565640114313957,\n                 0.3808761020766137,\n                 0.38045441349827674,\n                 0.38404577050388267,\n                 0.38227863038360865,\n                 0.38121189717574566,\n                 0.37534325406922364,\n                 0.3868214642986787,\n                 0.3927550263716959,\n                 0.39133486964823305,\n                 0.3912543437166519,\n                 0.3884984087749199,\n                 0.3896466483216768,\n                 0.39151816963959873,\n                 0.39865464756212954,\n                 0.3968114273740757,\n                 0.397212764389667,\n                 0.40255519376392845,\n                 0.40714793342789873,\n                 0.4080830139527291,\n                 0.41023291686270563,\n                 0.4113496596140214,\n                 0.41363078085211025,\n                 0.4168888102186276,\n                 0.41179569530057536,\n                 0.4132888885884973,\n                 0.4140087372664617,\n                 0.4089916354888684,\n                 0.40867259734819184,\n                 0.41373671000013035,\n                 0.41635663795559774,\n                 0.41935907137309036,\n                 0.42323965963220905,\n                 0.4221039041778769,\n                 0.4226335911679404,\n                 0.41934256767873346,\n                 0.4214428948895483,\n                 0.41972320685021813,\n                 0.42068184321864005,\n                 0.4201084232105675,\n                 0.42054097195910684,\n                 0.4170886743353911,\n                 0.41201848437268784,\n                 0.4156671832345093,\n                 0.41091701646417705,\n                 0.4106645813047901,\n                 0.4109001725258396,\n                 0.41179274820623,\n                 0.416786708506697,\n                 0.41518832895137225,\n                 0.41449956305643276,\n                 0.4125506453238158,\n                 0.4112299514364794,\n                 0.41137080906660306,\n                 0.4123277325809549,\n                 0.4121081099797926,\n                 0.4084335730118703,\n                 0.41147447396358294,\n                 0.4131015711055857,\n                 0.41390663418977913,\n                 0.41328781269136344,\n                 0.40850364301447306,\n                 0.40788667939005163,\n                 0.40487758820810804,\n                 0.41425375530247743,\n                 0.410734985171202,\n                 0.4116199905259988,\n                 0.4108654439187548,\n                 0.4071665189026107,\n                 0.40575010895917146,\n                 0.40440894448071846,\n                 0.4027538109540791,\n                 0.40006342845927373,\n                 0.39841399873151145,\n                 0.39904905642687694,\n                 0.39967287913602695,\n                 0.3992902086177812,\n                 0.39982344669259207,\n                 0.3986895171460749,\n                 0.39910493334973673,\n                 0.40172543974864977,\n                 0.3951994942197066,\n                 0.39769700435358013,\n                 0.40044821890663695,\n                 0.3995758397240099,\n                 0.39769918778134283,\n                 0.39773306203011616,\n                 0.3984301452147958,\n                 0.3998068278281893,\n                 0.3992821250251143,\n                 0.3971346995676421,\n                 0.39616758147540126,\n                 0.39096012696280735,\n                 0.3938831272262992,\n                 0.3947996358709467,\n                 0.39402199945544497,\n                 0.395172343999692,\n                 0.3952588331740062,\n                 0.3892613266298697,\n                 0.3898672011858072])])},\n '_best_score': defaultdict(collections.OrderedDict,\n             {'valid_0': OrderedDict([('ndcg@10', 0.28690011977703167),\n                           ('ndcg@100', 0.3898672011858072)])}),\n '_best_iteration': None,\n '_other_params': {'metric': 'ndcg', 'ndcg_eval_at': [10, 100]},\n '_objective': 'lambdarank',\n 'class_weight': None,\n '_class_weight': None,\n '_class_map': None,\n '_n_features': 8,\n '_n_features_in': 8,\n '_classes': None,\n '_n_classes': None,\n 'metric': 'ndcg',\n 'ndcg_eval_at': [10, 100],\n '_eval_at': 10,\n '_fobj': None,\n 'fitted_': True}"
     },
     "execution_count": 33,
     "metadata": {},
     "output_type": "execute_result"
    }
   ],
   "source": [],
   "metadata": {
    "collapsed": false,
    "pycharm": {
     "name": "#%%\n"
    }
   }
  }
 ],
 "metadata": {
  "kernelspec": {
   "display_name": "Python 3",
   "language": "python",
   "name": "python3"
  },
  "language_info": {
   "codemirror_mode": {
    "name": "ipython",
    "version": 2
   },
   "file_extension": ".py",
   "mimetype": "text/x-python",
   "name": "python",
   "nbconvert_exporter": "python",
   "pygments_lexer": "ipython2",
   "version": "2.7.6"
  }
 },
 "nbformat": 4,
 "nbformat_minor": 0
}