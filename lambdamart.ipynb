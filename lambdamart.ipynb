{
 "cells": [
  {
   "cell_type": "code",
   "execution_count": 1,
   "metadata": {
    "collapsed": true
   },
   "outputs": [],
   "source": [
    "import numpy as np\n",
    "import pandas as pd\n",
    "import lightgbm"
   ]
  },
  {
   "cell_type": "code",
   "execution_count": 139,
   "outputs": [],
   "source": [
    "df = pd.read_csv('X_train.csv')\n",
    "nbr_of_rows = len(df)\n",
    "split_point = int(nbr_of_rows / 10 * 8)\n",
    "train_df = df[:split_point]  # first 80%\n",
    "validation_df = df[split_point:]  # remaining 20%"
   ],
   "metadata": {
    "collapsed": false,
    "pycharm": {
     "name": "#%%\n"
    }
   }
  },
  {
   "cell_type": "code",
   "execution_count": 140,
   "outputs": [],
   "source": [
    "qids_train = train_df.groupby(\"q_id\")[\"q_id\"].count().to_numpy()\n",
    "X_train = train_df.drop([\"q_id\", \"rel\"], axis=1)\n",
    "y_train = train_df[\"rel\"]\n",
    "qids_validation = validation_df.groupby(\"q_id\")[\"q_id\"].count().to_numpy()\n",
    "X_validation = validation_df.drop([\"q_id\", \"rel\"], axis=1)\n",
    "y_validation = validation_df[\"rel\"]"
   ],
   "metadata": {
    "collapsed": false,
    "pycharm": {
     "name": "#%%\n"
    }
   }
  },
  {
   "cell_type": "code",
   "execution_count": 141,
   "outputs": [
    {
     "name": "stderr",
     "output_type": "stream",
     "text": [
      "C:\\Users\\Alin\\Anaconda3\\envs\\pytorch\\lib\\site-packages\\lightgbm\\sklearn.py:621: UserWarning: Found 'ndcg_eval_at' in params. Will use it instead of 'eval_at' argument\n",
      "  _log_warning(f\"Found '{alias}' in params. Will use it instead of 'eval_at' argument\")\n",
      "C:\\Users\\Alin\\Anaconda3\\envs\\pytorch\\lib\\site-packages\\lightgbm\\sklearn.py:736: UserWarning: 'verbose' argument is deprecated and will be removed in a future release of LightGBM. Pass 'log_evaluation()' callback via 'callbacks' argument instead.\n",
      "  _log_warning(\"'verbose' argument is deprecated and will be removed in a future release of LightGBM. \"\n"
     ]
    },
    {
     "name": "stdout",
     "output_type": "stream",
     "text": [
      "[1]\tvalid_0's ndcg@1: 0.06\tvalid_0's ndcg@3: 0.107737\tvalid_0's ndcg@5: 0.12646\tvalid_0's ndcg@10: 0.151718\tvalid_0's ndcg@100: 0.295656\n",
      "[2]\tvalid_0's ndcg@1: 0.135\tvalid_0's ndcg@3: 0.215474\tvalid_0's ndcg@5: 0.246022\tvalid_0's ndcg@10: 0.270475\tvalid_0's ndcg@100: 0.380876\n",
      "[3]\tvalid_0's ndcg@1: 0.125\tvalid_0's ndcg@3: 0.207974\tvalid_0's ndcg@5: 0.240456\tvalid_0's ndcg@10: 0.27734\tvalid_0's ndcg@100: 0.380454\n",
      "[4]\tvalid_0's ndcg@1: 0.13\tvalid_0's ndcg@3: 0.20351\tvalid_0's ndcg@5: 0.242234\tvalid_0's ndcg@10: 0.282075\tvalid_0's ndcg@100: 0.384046\n",
      "[5]\tvalid_0's ndcg@1: 0.115\tvalid_0's ndcg@3: 0.199284\tvalid_0's ndcg@5: 0.244029\tvalid_0's ndcg@10: 0.282971\tvalid_0's ndcg@100: 0.382279\n",
      "[6]\tvalid_0's ndcg@1: 0.115\tvalid_0's ndcg@3: 0.200474\tvalid_0's ndcg@5: 0.245658\tvalid_0's ndcg@10: 0.277816\tvalid_0's ndcg@100: 0.381212\n",
      "[7]\tvalid_0's ndcg@1: 0.105\tvalid_0's ndcg@3: 0.192974\tvalid_0's ndcg@5: 0.234727\tvalid_0's ndcg@10: 0.268764\tvalid_0's ndcg@100: 0.375343\n",
      "[8]\tvalid_0's ndcg@1: 0.12\tvalid_0's ndcg@3: 0.216129\tvalid_0's ndcg@5: 0.243247\tvalid_0's ndcg@10: 0.280569\tvalid_0's ndcg@100: 0.386821\n",
      "[9]\tvalid_0's ndcg@1: 0.125\tvalid_0's ndcg@3: 0.216784\tvalid_0's ndcg@5: 0.25423\tvalid_0's ndcg@10: 0.289371\tvalid_0's ndcg@100: 0.392755\n",
      "[10]\tvalid_0's ndcg@1: 0.12\tvalid_0's ndcg@3: 0.217438\tvalid_0's ndcg@5: 0.260249\tvalid_0's ndcg@10: 0.287408\tvalid_0's ndcg@100: 0.391335\n",
      "[11]\tvalid_0's ndcg@1: 0.12\tvalid_0's ndcg@3: 0.214938\tvalid_0's ndcg@5: 0.256034\tvalid_0's ndcg@10: 0.288451\tvalid_0's ndcg@100: 0.391254\n",
      "[12]\tvalid_0's ndcg@1: 0.115\tvalid_0's ndcg@3: 0.211784\tvalid_0's ndcg@5: 0.245142\tvalid_0's ndcg@10: 0.287736\tvalid_0's ndcg@100: 0.388498\n",
      "[13]\tvalid_0's ndcg@1: 0.12\tvalid_0's ndcg@3: 0.214284\tvalid_0's ndcg@5: 0.245708\tvalid_0's ndcg@10: 0.289242\tvalid_0's ndcg@100: 0.389647\n",
      "[14]\tvalid_0's ndcg@1: 0.13\tvalid_0's ndcg@3: 0.216665\tvalid_0's ndcg@5: 0.248089\tvalid_0's ndcg@10: 0.290364\tvalid_0's ndcg@100: 0.391518\n",
      "[15]\tvalid_0's ndcg@1: 0.135\tvalid_0's ndcg@3: 0.23232\tvalid_0's ndcg@5: 0.257722\tvalid_0's ndcg@10: 0.301233\tvalid_0's ndcg@100: 0.398655\n",
      "[16]\tvalid_0's ndcg@1: 0.135\tvalid_0's ndcg@3: 0.22732\tvalid_0's ndcg@5: 0.25013\tvalid_0's ndcg@10: 0.298768\tvalid_0's ndcg@100: 0.396811\n",
      "[17]\tvalid_0's ndcg@1: 0.14\tvalid_0's ndcg@3: 0.225356\tvalid_0's ndcg@5: 0.258714\tvalid_0's ndcg@10: 0.300181\tvalid_0's ndcg@100: 0.397213\n",
      "[18]\tvalid_0's ndcg@1: 0.15\tvalid_0's ndcg@3: 0.234701\tvalid_0's ndcg@5: 0.265249\tvalid_0's ndcg@10: 0.303315\tvalid_0's ndcg@100: 0.402555\n",
      "[19]\tvalid_0's ndcg@1: 0.16\tvalid_0's ndcg@3: 0.237201\tvalid_0's ndcg@5: 0.261727\tvalid_0's ndcg@10: 0.310294\tvalid_0's ndcg@100: 0.407148\n",
      "[20]\tvalid_0's ndcg@1: 0.16\tvalid_0's ndcg@3: 0.239701\tvalid_0's ndcg@5: 0.265942\tvalid_0's ndcg@10: 0.30933\tvalid_0's ndcg@100: 0.408083\n",
      "[21]\tvalid_0's ndcg@1: 0.17\tvalid_0's ndcg@3: 0.233392\tvalid_0's ndcg@5: 0.2704\tvalid_0's ndcg@10: 0.30759\tvalid_0's ndcg@100: 0.410233\n",
      "[22]\tvalid_0's ndcg@1: 0.165\tvalid_0's ndcg@3: 0.24101\tvalid_0's ndcg@5: 0.273492\tvalid_0's ndcg@10: 0.308711\tvalid_0's ndcg@100: 0.41135\n",
      "[23]\tvalid_0's ndcg@1: 0.165\tvalid_0's ndcg@3: 0.244165\tvalid_0's ndcg@5: 0.280735\tvalid_0's ndcg@10: 0.314951\tvalid_0's ndcg@100: 0.413631\n",
      "[24]\tvalid_0's ndcg@1: 0.175\tvalid_0's ndcg@3: 0.250356\tvalid_0's ndcg@5: 0.284553\tvalid_0's ndcg@10: 0.316851\tvalid_0's ndcg@100: 0.416889\n",
      "[25]\tvalid_0's ndcg@1: 0.17\tvalid_0's ndcg@3: 0.241546\tvalid_0's ndcg@5: 0.275963\tvalid_0's ndcg@10: 0.314456\tvalid_0's ndcg@100: 0.411796\n",
      "[26]\tvalid_0's ndcg@1: 0.175\tvalid_0's ndcg@3: 0.240892\tvalid_0's ndcg@5: 0.277242\tvalid_0's ndcg@10: 0.314494\tvalid_0's ndcg@100: 0.413289\n",
      "[27]\tvalid_0's ndcg@1: 0.17\tvalid_0's ndcg@3: 0.246546\tvalid_0's ndcg@5: 0.27516\tvalid_0's ndcg@10: 0.315859\tvalid_0's ndcg@100: 0.414009\n",
      "[28]\tvalid_0's ndcg@1: 0.16\tvalid_0's ndcg@3: 0.240356\tvalid_0's ndcg@5: 0.267254\tvalid_0's ndcg@10: 0.311468\tvalid_0's ndcg@100: 0.408992\n",
      "[29]\tvalid_0's ndcg@1: 0.16\tvalid_0's ndcg@3: 0.24101\tvalid_0's ndcg@5: 0.263821\tvalid_0's ndcg@10: 0.308515\tvalid_0's ndcg@100: 0.408673\n",
      "[30]\tvalid_0's ndcg@1: 0.165\tvalid_0's ndcg@3: 0.24851\tvalid_0's ndcg@5: 0.268949\tvalid_0's ndcg@10: 0.318468\tvalid_0's ndcg@100: 0.413737\n",
      "[31]\tvalid_0's ndcg@1: 0.17\tvalid_0's ndcg@3: 0.249701\tvalid_0's ndcg@5: 0.270578\tvalid_0's ndcg@10: 0.320636\tvalid_0's ndcg@100: 0.416357\n",
      "[32]\tvalid_0's ndcg@1: 0.18\tvalid_0's ndcg@3: 0.249046\tvalid_0's ndcg@5: 0.275726\tvalid_0's ndcg@10: 0.323931\tvalid_0's ndcg@100: 0.419359\n",
      "[33]\tvalid_0's ndcg@1: 0.185\tvalid_0's ndcg@3: 0.254046\tvalid_0's ndcg@5: 0.284375\tvalid_0's ndcg@10: 0.325631\tvalid_0's ndcg@100: 0.42324\n",
      "[34]\tvalid_0's ndcg@1: 0.185\tvalid_0's ndcg@3: 0.250892\tvalid_0's ndcg@5: 0.28144\tvalid_0's ndcg@10: 0.327307\tvalid_0's ndcg@100: 0.422104\n",
      "[35]\tvalid_0's ndcg@1: 0.185\tvalid_0's ndcg@3: 0.253392\tvalid_0's ndcg@5: 0.282005\tvalid_0's ndcg@10: 0.327885\tvalid_0's ndcg@100: 0.422634\n"
     ]
    },
    {
     "data": {
      "text/plain": "LGBMRanker(metric='ndcg', n_estimators=35, ndcg_eval_at=[1, 3, 5, 10, 100],\n           objective='lambdarank')"
     },
     "execution_count": 141,
     "metadata": {},
     "output_type": "execute_result"
    }
   ],
   "source": [
    "model = lightgbm.LGBMRanker(\n",
    "    objective=\"lambdarank\",\n",
    "    metric=\"ndcg\",\n",
    "    ndcg_eval_at=[1, 3, 5, 10, 100],\n",
    "    n_estimators=35\n",
    ")\n",
    "\n",
    "model.fit(\n",
    "    X=X_train,\n",
    "    y=y_train,\n",
    "    group=qids_train,\n",
    "    eval_set=[(X_validation, y_validation)],\n",
    "    eval_group=[qids_validation],\n",
    "    eval_at=1,\n",
    "    verbose=1,\n",
    ")"
   ],
   "metadata": {
    "collapsed": false,
    "pycharm": {
     "name": "#%%\n"
    }
   }
  },
  {
   "cell_type": "code",
   "execution_count": 142,
   "outputs": [
    {
     "data": {
      "text/plain": "                1         2         3          4     5   6  7   8     q_id  \\\n137203  10.273640  0.736925  0.192308  11.653727   649  52  3  22  1102400   \n137220   9.955198  0.403051  0.126126  11.653727  1703  59  4  22  1102400   \n137210  10.236705  0.364816  0.099359  11.653727  2572  49  5  22  1102400   \n137201  10.961761  0.424772  0.129568  11.653727  2514  47  4  22  1102400   \n137202  10.544532  0.665221  0.134884  11.653727  1843  62  4  22  1102400   \n...           ...       ...       ...        ...   ...  .. ..  ..      ...   \n239742   8.787430  0.415093  0.066667  13.244507  2768  78  4  25        2   \n239759   8.758108  0.352020  0.056452  13.244507  3329  66  4  25        2   \n239781   9.599329  0.088585  0.016251  13.244507  8095  31  3  25        2   \n239784   8.842834  0.141128  0.029240  13.244507  3264  61  6  25        2   \n239797   8.812705  0.132235  0.027397  13.244507  3294  54  4  25        2   \n\n          doc_id     score  \n137203   D677570  1.202770  \n137220   D251163  0.817490  \n137210   D251165  0.799442  \n137201   D677568  0.758341  \n137202  D1450527  0.602159  \n...          ...       ...  \n239742  D1809949 -2.036755  \n239759  D2512105 -2.117368  \n239781  D2001023 -2.126583  \n239784   D247176 -2.168612  \n239797   D266004 -2.212583  \n\n[519300 rows x 11 columns]",
      "text/html": "<div>\n<style scoped>\n    .dataframe tbody tr th:only-of-type {\n        vertical-align: middle;\n    }\n\n    .dataframe tbody tr th {\n        vertical-align: top;\n    }\n\n    .dataframe thead th {\n        text-align: right;\n    }\n</style>\n<table border=\"1\" class=\"dataframe\">\n  <thead>\n    <tr style=\"text-align: right;\">\n      <th></th>\n      <th>1</th>\n      <th>2</th>\n      <th>3</th>\n      <th>4</th>\n      <th>5</th>\n      <th>6</th>\n      <th>7</th>\n      <th>8</th>\n      <th>q_id</th>\n      <th>doc_id</th>\n      <th>score</th>\n    </tr>\n  </thead>\n  <tbody>\n    <tr>\n      <th>137203</th>\n      <td>10.273640</td>\n      <td>0.736925</td>\n      <td>0.192308</td>\n      <td>11.653727</td>\n      <td>649</td>\n      <td>52</td>\n      <td>3</td>\n      <td>22</td>\n      <td>1102400</td>\n      <td>D677570</td>\n      <td>1.202770</td>\n    </tr>\n    <tr>\n      <th>137220</th>\n      <td>9.955198</td>\n      <td>0.403051</td>\n      <td>0.126126</td>\n      <td>11.653727</td>\n      <td>1703</td>\n      <td>59</td>\n      <td>4</td>\n      <td>22</td>\n      <td>1102400</td>\n      <td>D251163</td>\n      <td>0.817490</td>\n    </tr>\n    <tr>\n      <th>137210</th>\n      <td>10.236705</td>\n      <td>0.364816</td>\n      <td>0.099359</td>\n      <td>11.653727</td>\n      <td>2572</td>\n      <td>49</td>\n      <td>5</td>\n      <td>22</td>\n      <td>1102400</td>\n      <td>D251165</td>\n      <td>0.799442</td>\n    </tr>\n    <tr>\n      <th>137201</th>\n      <td>10.961761</td>\n      <td>0.424772</td>\n      <td>0.129568</td>\n      <td>11.653727</td>\n      <td>2514</td>\n      <td>47</td>\n      <td>4</td>\n      <td>22</td>\n      <td>1102400</td>\n      <td>D677568</td>\n      <td>0.758341</td>\n    </tr>\n    <tr>\n      <th>137202</th>\n      <td>10.544532</td>\n      <td>0.665221</td>\n      <td>0.134884</td>\n      <td>11.653727</td>\n      <td>1843</td>\n      <td>62</td>\n      <td>4</td>\n      <td>22</td>\n      <td>1102400</td>\n      <td>D1450527</td>\n      <td>0.602159</td>\n    </tr>\n    <tr>\n      <th>...</th>\n      <td>...</td>\n      <td>...</td>\n      <td>...</td>\n      <td>...</td>\n      <td>...</td>\n      <td>...</td>\n      <td>...</td>\n      <td>...</td>\n      <td>...</td>\n      <td>...</td>\n      <td>...</td>\n    </tr>\n    <tr>\n      <th>239742</th>\n      <td>8.787430</td>\n      <td>0.415093</td>\n      <td>0.066667</td>\n      <td>13.244507</td>\n      <td>2768</td>\n      <td>78</td>\n      <td>4</td>\n      <td>25</td>\n      <td>2</td>\n      <td>D1809949</td>\n      <td>-2.036755</td>\n    </tr>\n    <tr>\n      <th>239759</th>\n      <td>8.758108</td>\n      <td>0.352020</td>\n      <td>0.056452</td>\n      <td>13.244507</td>\n      <td>3329</td>\n      <td>66</td>\n      <td>4</td>\n      <td>25</td>\n      <td>2</td>\n      <td>D2512105</td>\n      <td>-2.117368</td>\n    </tr>\n    <tr>\n      <th>239781</th>\n      <td>9.599329</td>\n      <td>0.088585</td>\n      <td>0.016251</td>\n      <td>13.244507</td>\n      <td>8095</td>\n      <td>31</td>\n      <td>3</td>\n      <td>25</td>\n      <td>2</td>\n      <td>D2001023</td>\n      <td>-2.126583</td>\n    </tr>\n    <tr>\n      <th>239784</th>\n      <td>8.842834</td>\n      <td>0.141128</td>\n      <td>0.029240</td>\n      <td>13.244507</td>\n      <td>3264</td>\n      <td>61</td>\n      <td>6</td>\n      <td>25</td>\n      <td>2</td>\n      <td>D247176</td>\n      <td>-2.168612</td>\n    </tr>\n    <tr>\n      <th>239797</th>\n      <td>8.812705</td>\n      <td>0.132235</td>\n      <td>0.027397</td>\n      <td>13.244507</td>\n      <td>3294</td>\n      <td>54</td>\n      <td>4</td>\n      <td>25</td>\n      <td>2</td>\n      <td>D266004</td>\n      <td>-2.212583</td>\n    </tr>\n  </tbody>\n</table>\n<p>519300 rows × 11 columns</p>\n</div>"
     },
     "execution_count": 142,
     "metadata": {},
     "output_type": "execute_result"
    }
   ],
   "source": [
    "dev_queries = pd.read_csv('dev-bm25-features.csv')\n",
    "only_features = dev_queries.drop(['q_id', 'doc_id'], axis=1).to_numpy()\n",
    "outputs = model.predict(only_features)\n",
    "dev_queries['score'] = outputs\n",
    "result = dev_queries.sort_values(['q_id', 'score'], ascending=False)\n",
    "result"
   ],
   "metadata": {
    "collapsed": false,
    "pycharm": {
     "name": "#%%\n"
    }
   }
  },
  {
   "cell_type": "code",
   "execution_count": 143,
   "outputs": [
    {
     "data": {
      "text/plain": "index        137203\n1          10.27364\n2          0.736925\n3          0.192308\n4         11.653727\n5               649\n6                52\n7                 3\n8                22\nq_id        1102400\ndoc_id      D677570\nscore       1.20277\nName: 0, dtype: object"
     },
     "execution_count": 143,
     "metadata": {},
     "output_type": "execute_result"
    }
   ],
   "source": [
    "result = result.reset_index()\n",
    "result.loc[0]"
   ],
   "metadata": {
    "collapsed": false,
    "pycharm": {
     "name": "#%%\n"
    }
   }
  },
  {
   "cell_type": "code",
   "execution_count": 144,
   "outputs": [
    {
     "data": {
      "text/plain": "1.202770362863172"
     },
     "execution_count": 144,
     "metadata": {},
     "output_type": "execute_result"
    }
   ],
   "source": [
    "result.loc[0].score"
   ],
   "metadata": {
    "collapsed": false,
    "pycharm": {
     "name": "#%%\n"
    }
   }
  },
  {
   "cell_type": "code",
   "execution_count": 145,
   "outputs": [],
   "source": [
    "with open('dev-bm25-reranked_k_1000.trec', 'w') as fout:\n",
    "    for i in range(len(result)):\n",
    "        row = result.loc[i]\n",
    "        fout.write(f'{row.q_id} Q0 {row.doc_id} {i % 100} {row.score} reranked\\n')"
   ],
   "metadata": {
    "collapsed": false,
    "pycharm": {
     "name": "#%%\n"
    }
   }
  },
  {
   "cell_type": "code",
   "execution_count": 146,
   "outputs": [],
   "source": [
    "test_queries = pd.read_csv('test-bm25-features.csv')\n",
    "only_features = test_queries.drop(['q_id', 'doc_id'], axis=1).to_numpy()\n",
    "outputs = model.predict(only_features)\n",
    "test_queries['score'] = outputs\n",
    "result = test_queries.sort_values(['q_id', 'score'], ascending=False)"
   ],
   "metadata": {
    "collapsed": false,
    "pycharm": {
     "name": "#%%\n"
    }
   }
  },
  {
   "cell_type": "code",
   "execution_count": 147,
   "outputs": [],
   "source": [
    "with open('test-bm25-reranked_k_1000.trec', 'w') as fout:\n",
    "    for i in range(len(result)):\n",
    "        row = result.loc[i]\n",
    "        fout.write(f'{row.q_id} Q0 {row.doc_id} {i % 100} {row.score} reranked\\n')"
   ],
   "metadata": {
    "collapsed": false,
    "pycharm": {
     "name": "#%%\n"
    }
   }
  }
 ],
 "metadata": {
  "kernelspec": {
   "display_name": "Python 3",
   "language": "python",
   "name": "python3"
  },
  "language_info": {
   "codemirror_mode": {
    "name": "ipython",
    "version": 2
   },
   "file_extension": ".py",
   "mimetype": "text/x-python",
   "name": "python",
   "nbconvert_exporter": "python",
   "pygments_lexer": "ipython2",
   "version": "2.7.6"
  }
 },
 "nbformat": 4,
 "nbformat_minor": 0
}