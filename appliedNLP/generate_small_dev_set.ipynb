{
 "cells": [
  {
   "cell_type": "code",
   "execution_count": 43,
   "outputs": [],
   "source": [
    "import random\n",
    "import matplotlib.pyplot as plt\n",
    "import spacy\n",
    "import csv\n",
    "import gzip\n",
    "import tqdm\n",
    "import pandas as pd\n",
    "from pyserini.search import SimpleSearcher\n",
    "from collections import defaultdict"
   ],
   "metadata": {
    "collapsed": false,
    "pycharm": {
     "name": "#%%\n"
    }
   }
  },
  {
   "cell_type": "code",
   "execution_count": 4,
   "outputs": [],
   "source": [
    "nlp = spacy.load('en_core_web_sm')\n",
    "searcher = SimpleSearcher('indexes/lucene-index-msmarco-doc')"
   ],
   "metadata": {
    "collapsed": false,
    "pycharm": {
     "name": "#%%\n"
    }
   }
  },
  {
   "cell_type": "code",
   "execution_count": 5,
   "outputs": [],
   "source": [
    "# In the corpus tsv, each docid occurs at offset docoffset[docid]\n",
    "docoffset = {}\n",
    "with gzip.open(\"train/msmarco-docs-lookup.tsv.gz\", 'rt', encoding='utf8') as f:\n",
    "    tsvreader = csv.reader(f, delimiter=\"\\t\")\n",
    "    for [docid, _, offset] in tsvreader:\n",
    "        docoffset[docid] = int(offset)\n",
    "\n",
    "\n",
    "def getcontent(docid, f):\n",
    "    \"\"\"getcontent(docid, f) will get content for a given docid (a string) from filehandle f.\n",
    "    The content has four tab-separated strings: docid, url, title, body.\n",
    "    \"\"\"\n",
    "\n",
    "    f.seek(docoffset[docid])\n",
    "    line = f.readline()\n",
    "    assert line.startswith(docid + \"\\t\"), f\"Looking for {docid}, found {line}\"\n",
    "    return line.rstrip()"
   ],
   "metadata": {
    "collapsed": false,
    "pycharm": {
     "name": "#%%\n"
    }
   }
  },
  {
   "cell_type": "code",
   "execution_count": 63,
   "outputs": [],
   "source": [
    "querystring = {}\n",
    "with open(\"dev/queries.docdev.tsv\", encoding='utf8') as f:\n",
    "    tsvreader = csv.reader(f, delimiter=\"\\t\")\n",
    "    for [topicid, querystring_of_topicid] in tsvreader:\n",
    "        querystring[topicid] = querystring_of_topicid"
   ],
   "metadata": {
    "collapsed": false,
    "pycharm": {
     "name": "#%%\n"
    }
   }
  },
  {
   "cell_type": "code",
   "execution_count": 7,
   "metadata": {
    "pycharm": {
     "name": "#%%\n"
    }
   },
   "outputs": [],
   "source": [
    "query_with_metrics = defaultdict(dict)\n",
    "with open('results_dev_100') as f:\n",
    "    results = f.readlines()\n",
    "    for line in results:\n",
    "        x, y, z = line.split()\n",
    "        query_with_metrics[y][x] = float(z)"
   ]
  },
  {
   "cell_type": "code",
   "execution_count": 8,
   "outputs": [
    {
     "name": "stdout",
     "output_type": "stream",
     "text": [
      "4195\n"
     ]
    },
    {
     "data": {
      "text/plain": "(3357, '1000017')"
     },
     "execution_count": 8,
     "metadata": {},
     "output_type": "execute_result"
    }
   ],
   "source": [
    "queries_sorted_by_mrr = sorted([x for x in query_with_metrics if query_with_metrics[x]['recip_rank'] > 0], key=lambda x: query_with_metrics[x]['recip_rank'])\n",
    "print(len(queries_sorted_by_mrr))\n",
    "next((i, x) for i, x in enumerate(queries_sorted_by_mrr) if query_with_metrics[x]['recip_rank'] == 1)"
   ],
   "metadata": {
    "collapsed": false,
    "pycharm": {
     "name": "#%%\n"
    }
   }
  },
  {
   "cell_type": "code",
   "execution_count": 9,
   "outputs": [
    {
     "name": "stdout",
     "output_type": "stream",
     "text": [
      "[0.1429, 0.013, 0.0333, 0.0769, 0.0625, 0.2, 0.0526, 0.1429, 0.0141, 0.037, 0.0164, 0.0115, 0.0185, 0.25, 0.1, 0.0182, 0.0385, 0.25, 0.2, 0.0526, 0.0123, 0.0227, 0.1429, 0.0125, 0.2, 0.0227, 0.1429, 0.2, 0.2, 0.1667, 0.25, 0.0833, 0.0417, 0.0417, 0.0179, 0.0417, 0.25, 0.0192, 0.04, 0.1429, 0.2, 0.2, 0.1429, 0.0435, 0.0909, 0.0385, 0.0526, 0.0357, 0.1429, 0.0667, 0.3333, 0.3333, 0.5, 0.3333, 0.3333, 0.5, 0.277, 0.5, 0.5, 0.5, 0.5, 0.3333, 0.5, 0.5, 0.3333, 0.5, 0.5, 0.5, 0.5, 0.5, 0.3333, 0.25, 0.3333, 0.5, 0.3333, 0.5, 0.3333, 0.5, 0.3333, 0.3333, 1.0, 1.0, 1.0, 1.0, 1.0, 1.0, 1.0, 1.0, 1.0, 1.0, 1.0, 1.0, 1.0, 1.0, 1.0, 1.0, 1.0, 1.0, 1.0, 1.0]\n"
     ]
    },
    {
     "data": {
      "text/plain": "<Figure size 432x288 with 1 Axes>",
      "image/png": "[encoded data removed]"
     },
     "metadata": {
      "needs_background": "light"
     },
     "output_type": "display_data"
    }
   ],
   "source": [
    "selected_queries = random.sample(queries_sorted_by_mrr[:2500], 50) + random.sample(queries_sorted_by_mrr[2500:3357], 30) + random.sample(queries_sorted_by_mrr[3357:], 20)\n",
    "print([query_with_metrics[x]['recip_rank'] for x in selected_queries])\n",
    "plt.clf()\n",
    "plt.hist([query_with_metrics[x]['recip_rank'] for x in selected_queries], bins=10)\n",
    "plt.show()"
   ],
   "metadata": {
    "collapsed": false,
    "pycharm": {
     "name": "#%%\n"
    }
   }
  },
  {
   "cell_type": "code",
   "execution_count": 67,
   "outputs": [
    {
     "name": "stderr",
     "output_type": "stream",
     "text": [
      "100%|██████████| 20000/20000 [00:03<00:00, 5079.50it/s]\n"
     ]
    }
   ],
   "source": [
    "queries_to_docs = defaultdict(list)\n",
    "queries_to_score = defaultdict(dict)\n",
    "docs_to_text = {}\n",
    "with open('results/test-bm25-100.trec') as f:\n",
    "    lines = f.readlines()\n",
    "    for line in tqdm.tqdm(lines):\n",
    "        query_id, _, doc_id, rank, score, _ = line.split()\n",
    "        if query_id in selected_queries:\n",
    "            queries_to_docs[query_id].append(doc_id)\n",
    "            queries_to_score[query_id][doc_id] = float(score)\n",
    "            docs_to_text[doc_id] = searcher.doc(doc_id).contents().replace('\\n', ' ')"
   ],
   "metadata": {
    "collapsed": false,
    "pycharm": {
     "name": "#%%\n"
    }
   }
  },
  {
   "cell_type": "code",
   "execution_count": 68,
   "outputs": [
    {
     "data": {
      "text/plain": "{'map': 0.5,\n 'recip_rank': 0.5,\n 'recall_100': 1.0,\n 'ndcg_cut_10': 0.6309,\n 'ndcg_cut_100': 0.6309}"
     },
     "execution_count": 68,
     "metadata": {},
     "output_type": "execute_result"
    }
   ],
   "source": [
    "query_with_metrics['1005586']"
   ],
   "metadata": {
    "collapsed": false,
    "pycharm": {
     "name": "#%%\n"
    }
   }
  },
  {
   "cell_type": "code",
   "execution_count": 60,
   "outputs": [],
   "source": [
    "bert_res = pd.read_csv('results_eval_set_bert.tsv', sep='\\t', header=None)\n",
    "queries_to_bert_score = defaultdict(dict)\n",
    "for _, (q_id, doc_id, score) in bert_res.iterrows():\n",
    "    queries_to_bert_score[str(q_id)][doc_id] = score"
   ],
   "metadata": {
    "collapsed": false,
    "pycharm": {
     "name": "#%%\n"
    }
   }
  },
  {
   "cell_type": "code",
   "execution_count": 61,
   "outputs": [
    {
     "name": "stderr",
     "output_type": "stream",
     "text": [
      "100%|██████████| 519300/519300 [00:02<00:00, 225718.32it/s]\n"
     ]
    }
   ],
   "source": [
    "queries_to_docs = defaultdict(list)\n",
    "queries_to_score = defaultdict(dict)\n",
    "docs_to_text = {}\n",
    "with open('results/dev-bm25-100.trec') as f:\n",
    "    lines = f.readlines()\n",
    "    for line in tqdm.tqdm(lines):\n",
    "        query_id, _, doc_id, rank, score, _ = line.split()\n",
    "        if query_id in queries_to_bert_score:\n",
    "            queries_to_docs[query_id].append(doc_id)\n",
    "            queries_to_score[query_id][doc_id] = float(score)\n",
    "            docs_to_text[doc_id] = searcher.doc(doc_id).contents().replace('\\n', ' ')"
   ],
   "metadata": {
    "collapsed": false,
    "pycharm": {
     "name": "#%%\n"
    }
   }
  },
  {
   "cell_type": "code",
   "execution_count": 73,
   "outputs": [
    {
     "data": {
      "text/plain": "{'map': 0.25,\n 'recip_rank': 0.25,\n 'recall_100': 1.0,\n 'ndcg_cut_10': 0.4307,\n 'ndcg_cut_100': 0.4307}"
     },
     "execution_count": 73,
     "metadata": {},
     "output_type": "execute_result"
    }
   ],
   "source": [
    "improved_metrics = defaultdict(dict)\n",
    "with open('rerank_results/rerank_per_query') as f:\n",
    "    results = f.readlines()\n",
    "    for line in results:\n",
    "        x, y, z = line.split()\n",
    "        improved_metrics[y][x] = float(z)"
   ],
   "metadata": {
    "collapsed": false,
    "pycharm": {
     "name": "#%%\n"
    }
   }
  },
  {
   "cell_type": "code",
   "execution_count": 75,
   "outputs": [
    {
     "data": {
      "text/plain": "47"
     },
     "execution_count": 75,
     "metadata": {},
     "output_type": "execute_result"
    }
   ],
   "source": [
    "improved_queries = [query for query in improved_metrics if improved_metrics[query]['recip_rank'] > query_with_metrics[query]['recip_rank']]\n",
    "len(improved_queries)"
   ],
   "metadata": {
    "collapsed": false,
    "pycharm": {
     "name": "#%%\n"
    }
   }
  },
  {
   "cell_type": "code",
   "execution_count": 76,
   "outputs": [
    {
     "data": {
      "text/plain": "17"
     },
     "execution_count": 76,
     "metadata": {},
     "output_type": "execute_result"
    }
   ],
   "source": [
    "worsened_queries = [query for query in improved_metrics if improved_metrics[query]['recip_rank'] < query_with_metrics[query]['recip_rank']]\n",
    "len(worsened_queries)"
   ],
   "metadata": {
    "collapsed": false,
    "pycharm": {
     "name": "#%%\n"
    }
   }
  },
  {
   "cell_type": "code",
   "execution_count": 81,
   "outputs": [
    {
     "data": {
      "text/plain": "[(-0.5, '1098804'),\n (-0.3571, '540906'),\n (-0.25, '65583'),\n (-0.23329999999999998, '342115'),\n (-0.1375, '823549'),\n (-0.1, '1066116'),\n (-0.08329999999999999, '1097448'),\n (-0.08329999999999999, '194724'),\n (-0.059699999999999996, '971213'),\n (-0.04999999999999999, '493508'),\n (-0.033300000000000024, '1089414'),\n (-0.028399999999999995, '1000319'),\n (-0.008300000000000002, '202797'),\n (-0.0069, '675320'),\n (-0.004299999999999998, '274981'),\n (-0.0026, '95409'),\n (-0.0023, '963788'),\n (0.0, '1005586'),\n (0.0, '1006911'),\n (0.0, '1083017'),\n (0.0, '1084326'),\n (0.0, '1084755'),\n (0.0, '1089002'),\n (0.0, '1089143'),\n (0.0, '1092257'),\n (0.0, '1095335'),\n (0.0, '1095357'),\n (0.0, '1101739'),\n (0.0, '147073'),\n (0.0, '160255'),\n (0.0, '212977'),\n (0.0, '25344'),\n (0.0, '306105'),\n (0.0, '31432'),\n (0.0, '34039'),\n (0.0, '414276'),\n (0.0, '433220'),\n (0.0, '455273'),\n (0.0, '46579'),\n (0.0, '497536'),\n (0.0, '506579'),\n (0.0, '527568'),\n (0.0, '543951'),\n (0.0, '57614'),\n (0.0, '631724'),\n (0.0, '73119'),\n (0.0, '745746'),\n (0.0, '795951'),\n (0.0, '82100'),\n (0.0, '944231'),\n (0.0, '97964'),\n (0.0, '985461'),\n (0.0, '999469'),\n (0.0005999999999999998, '1017524'),\n (0.0011000000000000003, '745402'),\n (0.0030000000000000027, '624644'),\n (0.004800000000000002, '243712'),\n (0.007599999999999996, '210690'),\n (0.007599999999999999, '973917'),\n (0.008799999999999999, '1100980'),\n (0.010700000000000001, '373121'),\n (0.013199999999999996, '1085197'),\n (0.015600000000000003, '1082730'),\n (0.019700000000000002, '436091'),\n (0.023799999999999988, '548673'),\n (0.024999999999999994, '442593'),\n (0.027900000000000008, '290830'),\n (0.030699999999999998, '1038849'),\n (0.0378, '1086628'),\n (0.0397, '750946'),\n (0.04999999999999999, '1087722'),\n (0.0515, '610190'),\n (0.05710000000000001, '1094691'),\n (0.0696, '70720'),\n (0.0872, '1075656'),\n (0.09999999999999999, '934223'),\n (0.1071, '1051339'),\n (0.13329999999999997, '1040461'),\n (0.15910000000000002, '998591'),\n (0.16670000000000001, '1083535'),\n (0.16670000000000001, '1089026'),\n (0.16670000000000001, '591026'),\n (0.16670000000000001, '766769'),\n (0.1744, '1102335'),\n (0.17769999999999997, 'all'),\n (0.25, '1031682'),\n (0.25, '1033927'),\n (0.25, '367290'),\n (0.2777, '419692'),\n (0.4167, '1059045'),\n (0.4677, '466252'),\n (0.5, '392488'),\n (0.5, '400696'),\n (0.5, '430985'),\n (0.5, '906126'),\n (0.5, '934964'),\n (0.8, '1097909'),\n (0.8333, '1096911'),\n (0.9167, '900599'),\n (0.9744, '36703')]"
     },
     "execution_count": 81,
     "metadata": {},
     "output_type": "execute_result"
    }
   ],
   "source": [
    "query_performance = sorted([(improved_metrics[query]['recip_rank'] - query_with_metrics[query]['recip_rank'], query) for query in improved_metrics])\n",
    "query_performance"
   ],
   "metadata": {
    "collapsed": false,
    "pycharm": {
     "name": "#%%\n"
    }
   }
  }
 ],
 "metadata": {
  "kernelspec": {
   "display_name": "Python 3 (ipykernel)",
   "language": "python",
   "name": "python3"
  },
  "language_info": {
   "codemirror_mode": {
    "name": "ipython",
    "version": 3
   },
   "file_extension": ".py",
   "mimetype": "text/x-python",
   "name": "python",
   "nbconvert_exporter": "python",
   "pygments_lexer": "ipython3",
   "version": "3.9.7"
  }
 },
 "nbformat": 4,
 "nbformat_minor": 1
}