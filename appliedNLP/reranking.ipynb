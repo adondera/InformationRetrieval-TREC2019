{
 "cells": [
  {
   "cell_type": "code",
   "execution_count": 321,
   "metadata": {
    "collapsed": true
   },
   "outputs": [],
   "source": [
    "import spacy\n",
    "import tqdm\n",
    "import pandas as pd\n",
    "from pyserini.search import SimpleSearcher\n",
    "from collections import defaultdict"
   ]
  },
  {
   "cell_type": "code",
   "execution_count": 322,
   "outputs": [],
   "source": [
    "nlp = spacy.load('en_core_web_sm')\n",
    "searcher = SimpleSearcher('indexes/lucene-index-msmarco-doc')"
   ],
   "metadata": {
    "collapsed": false,
    "pycharm": {
     "name": "#%%\n"
    }
   }
  },
  {
   "cell_type": "code",
   "execution_count": 453,
   "outputs": [],
   "source": [
    "test_set = 'eval'\n",
    "method = 'glove'\n",
    "queries_to_new_score = defaultdict(dict)"
   ],
   "metadata": {
    "collapsed": false,
    "pycharm": {
     "name": "#%%\n"
    }
   }
  },
  {
   "cell_type": "code",
   "execution_count": 463,
   "outputs": [],
   "source": [
    "result_file = f'intermediate_results/{test_set}_desm_scores_{method}.tsv'\n",
    "intermediate_res = pd.read_csv(result_file, sep='\\t', header=None)\n",
    "for _, (q_id, doc_id, score) in intermediate_res.iterrows():\n",
    "    queries_to_new_score[str(q_id)][doc_id] = score"
   ],
   "metadata": {
    "collapsed": false,
    "pycharm": {
     "name": "#%%\n"
    }
   }
  },
  {
   "cell_type": "code",
   "execution_count": 466,
   "outputs": [],
   "source": [
    "### FOR BERT ###\n",
    "\n",
    "weights = [1, 1, 1]\n",
    "intermediate_result_file = f'intermediate_results/full_results_{test_set}_set_distilbert.tsv'\n",
    "with open(intermediate_result_file) as f:\n",
    "    queries_to_new_score = defaultdict(dict)\n",
    "    lines = f.readlines()\n",
    "    for line in lines:\n",
    "        tokens = line.split()\n",
    "        q_id, doc_id = tokens[:2]\n",
    "        scores = list(map(float, tokens[2:]))\n",
    "        final_score = 0\n",
    "        total_weight = 0\n",
    "        for i, top_score in enumerate(scores):\n",
    "            final_score += top_score * weights[i]\n",
    "            total_weight += weights[i]\n",
    "        final_score = final_score / total_weight if total_weight != 0 else 0\n",
    "        queries_to_new_score[q_id][doc_id] = final_score"
   ],
   "metadata": {
    "collapsed": false,
    "pycharm": {
     "name": "#%%\n"
    }
   }
  },
  {
   "cell_type": "code",
   "execution_count": 461,
   "outputs": [
    {
     "name": "stderr",
     "output_type": "stream",
     "text": [
      "100%|██████████| 519300/519300 [00:06<00:00, 81867.75it/s] \n"
     ]
    }
   ],
   "source": [
    "queries_to_docs = defaultdict(list)\n",
    "queries_to_bm25_score = defaultdict(dict)\n",
    "docs_to_text = {}\n",
    "with open('results/dev-bm25-100.trec') as f, open(f'rerank_results/{test_set}initial_scores.tsv', 'w') as g:\n",
    "    lines = f.readlines()\n",
    "    for line in tqdm.tqdm(lines):\n",
    "        query_id, _, doc_id, rank, score, _ = line.split()\n",
    "        if query_id in queries_to_new_score:\n",
    "            queries_to_docs[query_id].append(doc_id)\n",
    "            queries_to_bm25_score[query_id][doc_id] = float(score)\n",
    "            docs_to_text[doc_id] = searcher.doc(doc_id).contents().replace('\\n', ' ')\n",
    "            g.write(f'{query_id} Q0 {doc_id} {rank} {score} {\"bm25\"}\\n')"
   ],
   "metadata": {
    "collapsed": false,
    "pycharm": {
     "name": "#%%\n"
    }
   }
  },
  {
   "cell_type": "code",
   "execution_count": 462,
   "outputs": [
    {
     "ename": "KeyError",
     "evalue": "'D2401591'",
     "output_type": "error",
     "traceback": [
      "\u001B[1;31m---------------------------------------------------------------------------\u001B[0m",
      "\u001B[1;31mKeyError\u001B[0m                                  Traceback (most recent call last)",
      "\u001B[1;32m~\\AppData\\Local\\Temp/ipykernel_17936/3929320707.py\u001B[0m in \u001B[0;36m<module>\u001B[1;34m\u001B[0m\n\u001B[1;32m----> 1\u001B[1;33m \u001B[0mprint\u001B[0m\u001B[1;33m(\u001B[0m\u001B[0mqueries_to_bm25_score\u001B[0m\u001B[1;33m[\u001B[0m\u001B[1;34m'1104031'\u001B[0m\u001B[1;33m]\u001B[0m\u001B[1;33m[\u001B[0m\u001B[1;34m'D2401591'\u001B[0m\u001B[1;33m]\u001B[0m\u001B[1;33m)\u001B[0m\u001B[1;33m\u001B[0m\u001B[1;33m\u001B[0m\u001B[0m\n\u001B[0m\u001B[0;32m      2\u001B[0m \u001B[0mprint\u001B[0m\u001B[1;33m(\u001B[0m\u001B[0mqueries_to_new_score\u001B[0m\u001B[1;33m[\u001B[0m\u001B[1;34m'1104031'\u001B[0m\u001B[1;33m]\u001B[0m\u001B[1;33m[\u001B[0m\u001B[1;34m'D2401591'\u001B[0m\u001B[1;33m]\u001B[0m\u001B[1;33m)\u001B[0m\u001B[1;33m\u001B[0m\u001B[1;33m\u001B[0m\u001B[0m\n",
      "\u001B[1;31mKeyError\u001B[0m: 'D2401591'"
     ]
    }
   ],
   "source": [
    "print(queries_to_bm25_score['1104031']['D2401591'])\n",
    "print(queries_to_new_score['1104031']['D2401591'])"
   ],
   "metadata": {
    "collapsed": false,
    "pycharm": {
     "name": "#%%\n"
    }
   }
  },
  {
   "cell_type": "code",
   "execution_count": 467,
   "outputs": [],
   "source": [
    "alpha = 0.5\n",
    "for query_id, docs in queries_to_docs.items():\n",
    "    queries_to_docs[query_id] = sorted(docs, key=lambda d: -(1 - alpha) * queries_to_bm25_score[query_id][d] - alpha * queries_to_new_score[query_id][d])"
   ],
   "metadata": {
    "collapsed": false,
    "pycharm": {
     "name": "#%%\n"
    }
   }
  },
  {
   "cell_type": "code",
   "execution_count": 468,
   "outputs": [],
   "source": [
    "with open(f'rerank_results/final_scores_{test_set}_distilbert.tsv', 'w') as f:\n",
    "    for query_id, docs in queries_to_docs.items():\n",
    "        for idx, doc_id in enumerate(docs):\n",
    "            f.write(f'{query_id} Q0 {doc_id} {idx} {1 / (idx + 1)} bert\\n')"
   ],
   "metadata": {
    "collapsed": false,
    "pycharm": {
     "name": "#%%\n"
    }
   }
  }
 ],
 "metadata": {
  "kernelspec": {
   "display_name": "Python 3",
   "language": "python",
   "name": "python3"
  },
  "language_info": {
   "codemirror_mode": {
    "name": "ipython",
    "version": 2
   },
   "file_extension": ".py",
   "mimetype": "text/x-python",
   "name": "python",
   "nbconvert_exporter": "python",
   "pygments_lexer": "ipython2",
   "version": "2.7.6"
  }
 },
 "nbformat": 4,
 "nbformat_minor": 0
}