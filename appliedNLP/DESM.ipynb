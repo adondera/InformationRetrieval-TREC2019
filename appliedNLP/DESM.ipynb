{
 "cells": [
  {
   "cell_type": "code",
   "execution_count": 1,
   "metadata": {
    "collapsed": true
   },
   "outputs": [],
   "source": [
    "import io\n",
    "import spacy\n",
    "import pandas as pd\n",
    "import tqdm\n",
    "import numpy as np"
   ]
  },
  {
   "cell_type": "code",
   "execution_count": 2,
   "outputs": [],
   "source": [
    "def load_vectors(fname):\n",
    "    fin = io.open(fname, 'r', encoding='utf-8', newline='\\n', errors='ignore')\n",
    "    # n, d = map(int, fin.readline().split())\n",
    "    data = {}\n",
    "    for line in tqdm.tqdm(fin):\n",
    "        tokens = line.rstrip().split(' ')\n",
    "        data[tokens[0]] = np.array([float(x) for x in tokens[1:]])\n",
    "    return data"
   ],
   "metadata": {
    "collapsed": false,
    "pycharm": {
     "name": "#%%\n"
    }
   }
  },
  {
   "cell_type": "code",
   "execution_count": 3,
   "outputs": [
    {
     "name": "stderr",
     "output_type": "stream",
     "text": [
      "400000it [00:46, 8604.26it/s]\n"
     ]
    }
   ],
   "source": [
    "embeddings = load_vectors('embeddings/glove.6B.300d.txt')"
   ],
   "metadata": {
    "collapsed": false,
    "pycharm": {
     "name": "#%%\n"
    }
   }
  },
  {
   "cell_type": "code",
   "execution_count": 5,
   "outputs": [],
   "source": [
    "nlp = spacy.load('en_core_web_sm')"
   ],
   "metadata": {
    "collapsed": false,
    "pycharm": {
     "name": "#%%\n"
    }
   }
  },
  {
   "cell_type": "code",
   "execution_count": 6,
   "outputs": [],
   "source": [
    "eval_set = pd.read_csv('test_set.tsv', sep='\\t', header=None)"
   ],
   "metadata": {
    "collapsed": false,
    "pycharm": {
     "name": "#%%\n"
    }
   }
  },
  {
   "cell_type": "code",
   "execution_count": 7,
   "outputs": [],
   "source": [
    "from numba import jit\n",
    "\n",
    "@jit(nopython=True)\n",
    "def cosine_similarity_numba(u:np.ndarray, v:np.ndarray):\n",
    "    assert(u.shape[0] == v.shape[0])\n",
    "    uv = 0\n",
    "    uu = 0\n",
    "    vv = 0\n",
    "    for i in range(u.shape[0]):\n",
    "        uv += u[i]*v[i]\n",
    "        uu += u[i]*u[i]\n",
    "        vv += v[i]*v[i]\n",
    "    cos_theta = 1\n",
    "    if uu != 0 and vv != 0:\n",
    "        cos_theta = uv/np.sqrt(uu*vv)\n",
    "    return cos_theta"
   ],
   "metadata": {
    "collapsed": false,
    "pycharm": {
     "name": "#%%\n"
    }
   }
  },
  {
   "cell_type": "code",
   "execution_count": 8,
   "outputs": [
    {
     "name": "stderr",
     "output_type": "stream",
     "text": [
      "20000it [1:18:42,  4.23it/s]\n"
     ]
    }
   ],
   "source": [
    "with open('intermediate_results/test_desm_scores_glove.tsv', 'w') as f:\n",
    "    for _, (q_id, q_str, doc_id, doc_str) in tqdm.tqdm(eval_set.iterrows()):\n",
    "        query_doc = nlp(q_str)\n",
    "        doc_score = np.zeros(300)\n",
    "        document_doc = nlp(doc_str)\n",
    "        total_additions = 0\n",
    "        for doc_token in document_doc:\n",
    "            if doc_token.text in embeddings:\n",
    "                doc_score += embeddings[doc_token.text]\n",
    "                total_additions += 1\n",
    "        doc_score /= total_additions\n",
    "        query_doc_score = 0\n",
    "        total_additions = 0\n",
    "        for query_token in query_doc:\n",
    "            if query_token.text in embeddings:\n",
    "                query_emb = embeddings[query_token.text]\n",
    "                query_doc_score += cosine_similarity_numba(query_emb, doc_score)\n",
    "                total_additions += 1\n",
    "        query_doc_score /= total_additions\n",
    "        f.write(f'{q_id}\\t{doc_id}\\t{query_doc_score}\\n')"
   ],
   "metadata": {
    "collapsed": false,
    "pycharm": {
     "name": "#%%\n"
    }
   }
  }
 ],
 "metadata": {
  "kernelspec": {
   "display_name": "Python 3",
   "language": "python",
   "name": "python3"
  },
  "language_info": {
   "codemirror_mode": {
    "name": "ipython",
    "version": 2
   },
   "file_extension": ".py",
   "mimetype": "text/x-python",
   "name": "python",
   "nbconvert_exporter": "python",
   "pygments_lexer": "ipython2",
   "version": "2.7.6"
  }
 },
 "nbformat": 4,
 "nbformat_minor": 0
}