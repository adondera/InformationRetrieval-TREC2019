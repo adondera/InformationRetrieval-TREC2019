{
 "cells": [
  {
   "cell_type": "code",
   "execution_count": 62,
   "metadata": {
    "collapsed": true
   },
   "outputs": [],
   "source": [
    "import numpy as np\n",
    "import pandas as pd\n",
    "from collections import defaultdict\n",
    "from pyserini.search import SimpleSearcher\n",
    "from pyserini.index import IndexReader"
   ]
  },
  {
   "cell_type": "code",
   "execution_count": 63,
   "outputs": [],
   "source": [
    "queries_doc = pd.read_csv('dev/queries.docdev.tsv', sep='\\t', names=['q_id', 'text'])\n",
    "queries_doc.set_index('q_id', inplace=True)"
   ],
   "metadata": {
    "collapsed": false,
    "pycharm": {
     "name": "#%%\n"
    }
   }
  },
  {
   "cell_type": "code",
   "execution_count": 64,
   "outputs": [],
   "source": [
    "qrels = pd.read_csv('dev/msmarco-docdev-qrels.tsv', sep=' ', names=['q_id', '0', 'doc_id', 'rel'])\n",
    "qrels.drop(['0', 'rel'], axis=1, inplace=True)\n",
    "qrels.set_index('q_id', inplace=True)"
   ],
   "metadata": {
    "collapsed": false,
    "pycharm": {
     "name": "#%%\n"
    }
   }
  },
  {
   "cell_type": "code",
   "execution_count": 65,
   "outputs": [
    {
     "data": {
      "text/plain": "          rr    doc_id                                               text\nq_id                                                                     \n1000000  0.0   D149214                  where does real insulin come from\n227637   0.0  D1156186            how does spicy food affect testosterone\n225499   0.0  D1848360                  how does apa cite laws internally\n22231    0.0  D2792164           are eggs or grapes better to fight colds\n222158   0.0   D968046                  how do you find the mean on excel\n...      ...       ...                                                ...\n882002   1.0    D11265                  what normal blood pressure by age\n1009994  1.0   D487092  _______ ratios measure an organization's abili...\n116431   1.0  D2978107                                  deed restrictions\n114573   1.0  D3085498           customer service number for atmos energy\n168787   1.0  D1645181               does matcha tea lower blood pressure\n\n[5192 rows x 3 columns]",
      "text/html": "<div>\n<style scoped>\n    .dataframe tbody tr th:only-of-type {\n        vertical-align: middle;\n    }\n\n    .dataframe tbody tr th {\n        vertical-align: top;\n    }\n\n    .dataframe thead th {\n        text-align: right;\n    }\n</style>\n<table border=\"1\" class=\"dataframe\">\n  <thead>\n    <tr style=\"text-align: right;\">\n      <th></th>\n      <th>rr</th>\n      <th>doc_id</th>\n      <th>text</th>\n    </tr>\n    <tr>\n      <th>q_id</th>\n      <th></th>\n      <th></th>\n      <th></th>\n    </tr>\n  </thead>\n  <tbody>\n    <tr>\n      <th>1000000</th>\n      <td>0.0</td>\n      <td>D149214</td>\n      <td>where does real insulin come from</td>\n    </tr>\n    <tr>\n      <th>227637</th>\n      <td>0.0</td>\n      <td>D1156186</td>\n      <td>how does spicy food affect testosterone</td>\n    </tr>\n    <tr>\n      <th>225499</th>\n      <td>0.0</td>\n      <td>D1848360</td>\n      <td>how does apa cite laws internally</td>\n    </tr>\n    <tr>\n      <th>22231</th>\n      <td>0.0</td>\n      <td>D2792164</td>\n      <td>are eggs or grapes better to fight colds</td>\n    </tr>\n    <tr>\n      <th>222158</th>\n      <td>0.0</td>\n      <td>D968046</td>\n      <td>how do you find the mean on excel</td>\n    </tr>\n    <tr>\n      <th>...</th>\n      <td>...</td>\n      <td>...</td>\n      <td>...</td>\n    </tr>\n    <tr>\n      <th>882002</th>\n      <td>1.0</td>\n      <td>D11265</td>\n      <td>what normal blood pressure by age</td>\n    </tr>\n    <tr>\n      <th>1009994</th>\n      <td>1.0</td>\n      <td>D487092</td>\n      <td>_______ ratios measure an organization's abili...</td>\n    </tr>\n    <tr>\n      <th>116431</th>\n      <td>1.0</td>\n      <td>D2978107</td>\n      <td>deed restrictions</td>\n    </tr>\n    <tr>\n      <th>114573</th>\n      <td>1.0</td>\n      <td>D3085498</td>\n      <td>customer service number for atmos energy</td>\n    </tr>\n    <tr>\n      <th>168787</th>\n      <td>1.0</td>\n      <td>D1645181</td>\n      <td>does matcha tea lower blood pressure</td>\n    </tr>\n  </tbody>\n</table>\n<p>5192 rows × 3 columns</p>\n</div>"
     },
     "execution_count": 65,
     "metadata": {},
     "output_type": "execute_result"
    }
   ],
   "source": [
    "results = pd.read_csv('dev-trec-output.tsv', sep='\\t', names=['metric', 'q_id', 'rr'])\n",
    "results = results.drop(['metric'], axis=1)\n",
    "results = results.sort_values(by=['rr'])\n",
    "results.set_index('q_id', inplace=True)\n",
    "results = results.merge(qrels, on='q_id')\n",
    "results = results.merge(queries_doc, on='q_id')\n",
    "results"
   ],
   "metadata": {
    "collapsed": false,
    "pycharm": {
     "name": "#%%\n"
    }
   }
  },
  {
   "cell_type": "code",
   "execution_count": 65,
   "outputs": [],
   "source": [],
   "metadata": {
    "collapsed": false,
    "pycharm": {
     "name": "#%%\n"
    }
   }
  },
  {
   "cell_type": "code",
   "execution_count": 66,
   "outputs": [
    {
     "name": "stdout",
     "output_type": "stream",
     "text": [
      "Recall: 0.8077812018489985\n"
     ]
    }
   ],
   "source": [
    "# Basic statistics\n",
    "print(f'Recall: {(results[\"rr\"] > 0).sum() / len(results)}')"
   ],
   "metadata": {
    "collapsed": false,
    "pycharm": {
     "name": "#%%\n"
    }
   }
  },
  {
   "cell_type": "code",
   "execution_count": 67,
   "outputs": [],
   "source": [
    "# Read probabilistic model output\n",
    "rankings = pd.read_csv('output.trec', sep=' ', names=['q_id', 'Q0', 'doc_id', 'rank', 'score', 'run'])\n",
    "rankings_dict = defaultdict(list)\n",
    "for index, (q_id, _, doc_id, _, _, _) in rankings.iterrows():\n",
    "    rankings_dict[q_id].append(doc_id)"
   ],
   "metadata": {
    "collapsed": false,
    "pycharm": {
     "name": "#%%\n"
    }
   }
  },
  {
   "cell_type": "code",
   "execution_count": 68,
   "outputs": [
    {
     "name": "stdout",
     "output_type": "stream",
     "text": [
      "['D1118594', 'D2064696', 'D2064694', 'D340120', 'D1327250', 'D2115239', 'D361231', 'D3159701', 'D1606966', 'D2064695', 'D292663', 'D2942129', 'D346003', 'D412028', 'D890771', 'D774778', 'D340121', 'D2122910', 'D2615189', 'D3039616', 'D816898', 'D806075', 'D302760', 'D1048518', 'D2573182', 'D753465', 'D2893648', 'D78907', 'D3365428', 'D613528', 'D2111671', 'D2074599', 'D753464', 'D1637614', 'D3436135', 'D3034600', 'D2910354', 'D1988158', 'D2022402', 'D1993489', 'D629294', 'D2559908', 'D2216247', 'D1830709', 'D3302520', 'D129308', 'D2166235', 'D3505513', 'D1312752', 'D2022207', 'D3302364', 'D367034', 'D3303149', 'D3505512', 'D2109840', 'D598799', 'D127683', 'D1183676', 'D581663', 'D1098960', 'D2647872', 'D3034601', 'D127684', 'D2086376', 'D386614', 'D3159703', 'D1610278', 'D1364807', 'D768994', 'D1023401', 'D896444', 'D3483011', 'D457796', 'D3039618', 'D3290974', 'D2636982', 'D183127', 'D2866025', 'D1697652', 'D753466', 'D2278363', 'D2793257', 'D3298280', 'D5780', 'D2291609', 'D1322909', 'D2290976', 'D682639', 'D3044889', 'D2143131', 'D3353597', 'D1830892', 'D63035', 'D598468', 'D380711', 'D1598137', 'D3401952', 'D2265042', 'D227542', 'D3172954']\n"
     ]
    }
   ],
   "source": [
    "print(rankings_dict[92542])"
   ],
   "metadata": {
    "collapsed": false,
    "pycharm": {
     "name": "#%%\n"
    }
   }
  },
  {
   "cell_type": "code",
   "execution_count": 69,
   "outputs": [],
   "source": [
    "searcher = SimpleSearcher('indexes/lucene-index-msmarco-doc')\n",
    "index_reader = IndexReader('indexes/lucene-index-msmarco-doc')"
   ],
   "metadata": {
    "collapsed": false,
    "pycharm": {
     "name": "#%%\n"
    }
   }
  },
  {
   "cell_type": "code",
   "execution_count": 70,
   "outputs": [
    {
     "data": {
      "text/plain": "          rr    doc_id                                               text  \\\nq_id                                                                        \n1000000  0.0   D149214                  where does real insulin come from   \n227637   0.0  D1156186            how does spicy food affect testosterone   \n225499   0.0  D1848360                  how does apa cite laws internally   \n22231    0.0  D2792164           are eggs or grapes better to fight colds   \n222158   0.0   D968046                  how do you find the mean on excel   \n...      ...       ...                                                ...   \n882002   1.0    D11265                  what normal blood pressure by age   \n1009994  1.0   D487092  _______ ratios measure an organization's abili...   \n116431   1.0  D2978107                                  deed restrictions   \n114573   1.0  D3085498           customer service number for atmos energy   \n168787   1.0  D1645181               does matcha tea lower blood pressure   \n\n                                                       url  \nq_id                                                        \n1000000              https://en.wikipedia.org/wiki/Insulin  \n227637   http://www.dailymail.co.uk/sciencetech/article...  \n225499      https://www.wikihow.com/Use-Internal-Citations  \n22231    http://allrecipes.com/recipe/34577/cold-rice-s...  \n222158   http://www.ehow.com/how_6776563_calculate-mean...  \n...                                                    ...  \n882002   https://www.reference.com/health/read-blood-pr...  \n1009994   https://www.readyratios.com/reference/liquidity/  \n116431   https://definitions.uslegal.com/d/deed-restric...  \n114573      https://gethuman.com/phone-number/Atmos-Energy  \n168787   https://theflavorproj.com/blogs/superfood-bene...  \n\n[5192 rows x 4 columns]",
      "text/html": "<div>\n<style scoped>\n    .dataframe tbody tr th:only-of-type {\n        vertical-align: middle;\n    }\n\n    .dataframe tbody tr th {\n        vertical-align: top;\n    }\n\n    .dataframe thead th {\n        text-align: right;\n    }\n</style>\n<table border=\"1\" class=\"dataframe\">\n  <thead>\n    <tr style=\"text-align: right;\">\n      <th></th>\n      <th>rr</th>\n      <th>doc_id</th>\n      <th>text</th>\n      <th>url</th>\n    </tr>\n    <tr>\n      <th>q_id</th>\n      <th></th>\n      <th></th>\n      <th></th>\n      <th></th>\n    </tr>\n  </thead>\n  <tbody>\n    <tr>\n      <th>1000000</th>\n      <td>0.0</td>\n      <td>D149214</td>\n      <td>where does real insulin come from</td>\n      <td>https://en.wikipedia.org/wiki/Insulin</td>\n    </tr>\n    <tr>\n      <th>227637</th>\n      <td>0.0</td>\n      <td>D1156186</td>\n      <td>how does spicy food affect testosterone</td>\n      <td>http://www.dailymail.co.uk/sciencetech/article...</td>\n    </tr>\n    <tr>\n      <th>225499</th>\n      <td>0.0</td>\n      <td>D1848360</td>\n      <td>how does apa cite laws internally</td>\n      <td>https://www.wikihow.com/Use-Internal-Citations</td>\n    </tr>\n    <tr>\n      <th>22231</th>\n      <td>0.0</td>\n      <td>D2792164</td>\n      <td>are eggs or grapes better to fight colds</td>\n      <td>http://allrecipes.com/recipe/34577/cold-rice-s...</td>\n    </tr>\n    <tr>\n      <th>222158</th>\n      <td>0.0</td>\n      <td>D968046</td>\n      <td>how do you find the mean on excel</td>\n      <td>http://www.ehow.com/how_6776563_calculate-mean...</td>\n    </tr>\n    <tr>\n      <th>...</th>\n      <td>...</td>\n      <td>...</td>\n      <td>...</td>\n      <td>...</td>\n    </tr>\n    <tr>\n      <th>882002</th>\n      <td>1.0</td>\n      <td>D11265</td>\n      <td>what normal blood pressure by age</td>\n      <td>https://www.reference.com/health/read-blood-pr...</td>\n    </tr>\n    <tr>\n      <th>1009994</th>\n      <td>1.0</td>\n      <td>D487092</td>\n      <td>_______ ratios measure an organization's abili...</td>\n      <td>https://www.readyratios.com/reference/liquidity/</td>\n    </tr>\n    <tr>\n      <th>116431</th>\n      <td>1.0</td>\n      <td>D2978107</td>\n      <td>deed restrictions</td>\n      <td>https://definitions.uslegal.com/d/deed-restric...</td>\n    </tr>\n    <tr>\n      <th>114573</th>\n      <td>1.0</td>\n      <td>D3085498</td>\n      <td>customer service number for atmos energy</td>\n      <td>https://gethuman.com/phone-number/Atmos-Energy</td>\n    </tr>\n    <tr>\n      <th>168787</th>\n      <td>1.0</td>\n      <td>D1645181</td>\n      <td>does matcha tea lower blood pressure</td>\n      <td>https://theflavorproj.com/blogs/superfood-bene...</td>\n    </tr>\n  </tbody>\n</table>\n<p>5192 rows × 4 columns</p>\n</div>"
     },
     "execution_count": 70,
     "metadata": {},
     "output_type": "execute_result"
    }
   ],
   "source": [
    "import re\n",
    "def findURL(s: str):\n",
    "    regex = '(http|ftp|https):\\/\\/([\\w_-]+(?:(?:\\.[\\w_-]+)+))([\\w.,@?^=%&:\\/~+#-]*[\\w@?^=%&\\/~+#-])'\n",
    "    urls = re.search(regex, s)\n",
    "    return urls[0].strip()\n",
    "\n",
    "results['url'] = [findURL(searcher.doc(doc_id).raw()) for doc_id in results['doc_id']]\n",
    "results"
   ],
   "metadata": {
    "collapsed": false,
    "pycharm": {
     "name": "#%%\n"
    }
   }
  },
  {
   "cell_type": "code",
   "execution_count": 71,
   "outputs": [
    {
     "data": {
      "text/plain": "          rr    doc_id                                               text  \\\nq_id                                                                        \n1000000  0.0   D149214                  where does real insulin come from   \n227637   0.0  D1156186            how does spicy food affect testosterone   \n225499   0.0  D1848360                  how does apa cite laws internally   \n22231    0.0  D2792164           are eggs or grapes better to fight colds   \n222158   0.0   D968046                  how do you find the mean on excel   \n...      ...       ...                                                ...   \n882002   1.0    D11265                  what normal blood pressure by age   \n1009994  1.0   D487092  _______ ratios measure an organization's abili...   \n116431   1.0  D2978107                                  deed restrictions   \n114573   1.0  D3085498           customer service number for atmos energy   \n168787   1.0  D1645181               does matcha tea lower blood pressure   \n\n                                                       url  bm25_score  \nq_id                                                                    \n1000000              https://en.wikipedia.org/wiki/Insulin    5.795771  \n227637   http://www.dailymail.co.uk/sciencetech/article...   12.297520  \n225499      https://www.wikihow.com/Use-Internal-Citations    6.465944  \n22231    http://allrecipes.com/recipe/34577/cold-rice-s...    5.092932  \n222158   http://www.ehow.com/how_6776563_calculate-mean...    4.904947  \n...                                                    ...         ...  \n882002   https://www.reference.com/health/read-blood-pr...    8.735644  \n1009994   https://www.readyratios.com/reference/liquidity/   17.273161  \n116431   https://definitions.uslegal.com/d/deed-restric...    7.720560  \n114573      https://gethuman.com/phone-number/Atmos-Energy   14.931982  \n168787   https://theflavorproj.com/blogs/superfood-bene...   18.209335  \n\n[5192 rows x 5 columns]",
      "text/html": "<div>\n<style scoped>\n    .dataframe tbody tr th:only-of-type {\n        vertical-align: middle;\n    }\n\n    .dataframe tbody tr th {\n        vertical-align: top;\n    }\n\n    .dataframe thead th {\n        text-align: right;\n    }\n</style>\n<table border=\"1\" class=\"dataframe\">\n  <thead>\n    <tr style=\"text-align: right;\">\n      <th></th>\n      <th>rr</th>\n      <th>doc_id</th>\n      <th>text</th>\n      <th>url</th>\n      <th>bm25_score</th>\n    </tr>\n    <tr>\n      <th>q_id</th>\n      <th></th>\n      <th></th>\n      <th></th>\n      <th></th>\n      <th></th>\n    </tr>\n  </thead>\n  <tbody>\n    <tr>\n      <th>1000000</th>\n      <td>0.0</td>\n      <td>D149214</td>\n      <td>where does real insulin come from</td>\n      <td>https://en.wikipedia.org/wiki/Insulin</td>\n      <td>5.795771</td>\n    </tr>\n    <tr>\n      <th>227637</th>\n      <td>0.0</td>\n      <td>D1156186</td>\n      <td>how does spicy food affect testosterone</td>\n      <td>http://www.dailymail.co.uk/sciencetech/article...</td>\n      <td>12.297520</td>\n    </tr>\n    <tr>\n      <th>225499</th>\n      <td>0.0</td>\n      <td>D1848360</td>\n      <td>how does apa cite laws internally</td>\n      <td>https://www.wikihow.com/Use-Internal-Citations</td>\n      <td>6.465944</td>\n    </tr>\n    <tr>\n      <th>22231</th>\n      <td>0.0</td>\n      <td>D2792164</td>\n      <td>are eggs or grapes better to fight colds</td>\n      <td>http://allrecipes.com/recipe/34577/cold-rice-s...</td>\n      <td>5.092932</td>\n    </tr>\n    <tr>\n      <th>222158</th>\n      <td>0.0</td>\n      <td>D968046</td>\n      <td>how do you find the mean on excel</td>\n      <td>http://www.ehow.com/how_6776563_calculate-mean...</td>\n      <td>4.904947</td>\n    </tr>\n    <tr>\n      <th>...</th>\n      <td>...</td>\n      <td>...</td>\n      <td>...</td>\n      <td>...</td>\n      <td>...</td>\n    </tr>\n    <tr>\n      <th>882002</th>\n      <td>1.0</td>\n      <td>D11265</td>\n      <td>what normal blood pressure by age</td>\n      <td>https://www.reference.com/health/read-blood-pr...</td>\n      <td>8.735644</td>\n    </tr>\n    <tr>\n      <th>1009994</th>\n      <td>1.0</td>\n      <td>D487092</td>\n      <td>_______ ratios measure an organization's abili...</td>\n      <td>https://www.readyratios.com/reference/liquidity/</td>\n      <td>17.273161</td>\n    </tr>\n    <tr>\n      <th>116431</th>\n      <td>1.0</td>\n      <td>D2978107</td>\n      <td>deed restrictions</td>\n      <td>https://definitions.uslegal.com/d/deed-restric...</td>\n      <td>7.720560</td>\n    </tr>\n    <tr>\n      <th>114573</th>\n      <td>1.0</td>\n      <td>D3085498</td>\n      <td>customer service number for atmos energy</td>\n      <td>https://gethuman.com/phone-number/Atmos-Energy</td>\n      <td>14.931982</td>\n    </tr>\n    <tr>\n      <th>168787</th>\n      <td>1.0</td>\n      <td>D1645181</td>\n      <td>does matcha tea lower blood pressure</td>\n      <td>https://theflavorproj.com/blogs/superfood-bene...</td>\n      <td>18.209335</td>\n    </tr>\n  </tbody>\n</table>\n<p>5192 rows × 5 columns</p>\n</div>"
     },
     "execution_count": 71,
     "metadata": {},
     "output_type": "execute_result"
    }
   ],
   "source": [
    "results['bm25_score'] = [index_reader.compute_query_document_score(doc_id, text) for (q_id, (_, doc_id, text, _)) in results.iterrows()]\n",
    "results"
   ],
   "metadata": {
    "collapsed": false,
    "pycharm": {
     "name": "#%%\n"
    }
   }
  },
  {
   "cell_type": "code",
   "execution_count": 72,
   "outputs": [
    {
     "name": "stdout",
     "output_type": "stream",
     "text": [
      "Query text: where does real insulin come from\n",
      "===================\n",
      "Relevant document URL:\n",
      "https://en.wikipedia.org/wiki/Insulin\n",
      "\n",
      "https://answers.yahoo.com/question/index?qid=20070712031322AAURFkK\n",
      "7.947456359863281\n",
      "http://www.toyboxphilosopher.com/2016/01/american-girls-lea-clark-sloth-and.html\n",
      "9.036995887756348\n",
      "http://www.mangomannutrition.com/causes-insulin-resistance-lipid-overload-2/\n",
      "8.14870548248291\n",
      "https://www.mangomannutrition.com/causes-insulin-resistance-lipid-overload-2/\n",
      "8.14870548248291\n",
      "https://www.dietdoctor.com/new-paradigm-insulin-resistance\n",
      "8.895774841308594\n",
      "http://articles.chicagotribune.com/1990-07-29/features/9003030670_1_human-insulin-recombinant-human-pancreas\n",
      "6.971416473388672\n",
      "http://www.answers.com/Q/Where_is_insulin_secreted\n",
      "6.715585708618164\n",
      "http://www.wisegeekhealth.com/what-is-insulin.htm\n",
      "7.375102996826172\n",
      "https://simplefill.com/novolog-prescription-assistance/\n",
      "7.815303802490234\n",
      "http://www.answers.com/Q/What_does_insulin_do\n",
      "6.732107639312744\n",
      "http://www.diabetes-info.co.uk/treating-diabetes/insulin-overview.html\n",
      "7.564794540405273\n",
      "https://www.news-medical.net/health/What-is-Insulin.aspx\n",
      "7.13542366027832\n",
      "http://www.news-medical.net/health/What-is-Insulin.aspx\n",
      "7.13542366027832\n",
      "http://www.diabetesforecast.org/2012/nov/can-insulin-go-back-in-the-fridge.html\n",
      "7.091179847717285\n",
      "http://www.mayoclinic.org/diseases-conditions/diabetes/basics/causes/CON-20033091\n",
      "7.329967498779297\n",
      "http://www.pmlive.com/pharma_news/novo_says_switching_to_tresiba_could_reduce_nhs_costs_579355\n",
      "7.82457160949707\n",
      "https://asweetlife.org/why-everyone-is-talking-about-glucagon/\n",
      "8.699992179870605\n",
      "https://www.sharecare.com/health/insulin/where-does-insulin-come-from\n",
      "6.8972554206848145\n",
      "https://answers.yahoo.com/question/index?qid=20080215235837AAl3YL0\n",
      "6.700107574462891\n",
      "http://diabetesupdate.blogspot.com/2014/06/afrezza-new-fast-acting-inhaled-insulin.html\n",
      "8.627327919006348\n",
      "https://www.quora.com/How-is-glucose-stored-in-the-liver\n",
      "7.450439453125\n",
      "http://www.answers.com/Q/When_is_insulin_released\n",
      "6.608206272125244\n",
      "http://www.answers.com/Q/Where_is_insulin_produced_in_the_body\n",
      "6.465394973754883\n",
      "http://www.lifescript.com/health/centers/diabetes/drugs/insulin_aspart.aspx\n",
      "7.046085357666016\n",
      "http://www.mendosa.com/insulin_cost.htm\n",
      "8.25537395477295\n",
      "http://thehormonediva.com/insulin/\n",
      "8.211081504821777\n",
      "https://www.healthtap.com/topics/how-long-does-insulin-stay-in-the-system-after-injection\n",
      "7.449617385864258\n",
      "https://www.metaboliceffect.com/science-insulin/\n",
      "7.459831237792969\n",
      "http://www.metaboliceffect.com/science-insulin/\n",
      "7.459831237792969\n",
      "https://www.endocrineweb.com/conditions/type-1-diabetes/type-1-diabetes-insulin\n",
      "7.175631523132324\n",
      "http://www.upmc.com/patients-visitors/education/diabetes/Pages/insulin-pens-how-to-give-a-shot.aspx\n",
      "7.291662216186523\n",
      "https://www.dietdoctor.com/yes-a-low-carb-diet-greatly-lowers-your-insulin\n",
      "6.627073764801025\n",
      "http://nutrihealth.in/health/insulin-facts-effects-and-when-to-take-your-next-dose/\n",
      "7.048351287841797\n",
      "http://scarysymptoms.com/2014/09/insulin-resistance-how-long-does-it_20/\n",
      "6.92502498626709\n",
      "http://www.diabetes.co.uk/insulin-pumps/buying-an-insulin-pump.html\n",
      "7.08577823638916\n",
      "http://www.womens-health-advice.com/diabetes/insulin.html\n",
      "7.0932159423828125\n",
      "http://www.answers.com/Q/Does_the_pancreas_produce_insulin\n",
      "6.480398654937744\n",
      "http://www.webmd.com/diabetes/guide/insulin-questions\n",
      "6.921491622924805\n",
      "https://examine.com/nutrition/how-are-carbohydrates-converted-into-fat-deposits/\n",
      "7.266057968139648\n",
      "http://www.medbio.info/Horn/Time%203-4/homeostasis_2.htm\n",
      "7.698129653930664\n",
      "http://www.medbio.info/horn/time%203-4/homeostasis_2.htm\n",
      "7.698129653930664\n",
      "http://www.webmd.com/diabetes/c-peptide\n",
      "7.196683883666992\n",
      "https://www.webmd.com/diabetes/c-peptide\n",
      "7.196683883666992\n",
      "https://diatribe.org/fda-approves-new-insulin-glargine-basaglar-first-biosimilar-insulin-us\n",
      "6.5565290451049805\n",
      "https://www.quora.com/How-much-does-the-average-diabetic-in-the-US-spend-per-month-on-supplies-like-test-strips-lancets-syringes-etc\n",
      "7.298240661621094\n",
      "https://www.sharecare.com/health/diabetes/difference-type-1-type-2-diabetes\n",
      "7.223847389221191\n",
      "https://nfb.org/images/nfb/publications/vodold/vow982.htm\n",
      "6.630944728851318\n",
      "http://allnurses.com/general-nursing-discussion/does-insulin-need-124775.html\n",
      "6.601521968841553\n",
      "http://www.answers.com/Q/What_is_the_difference_between_Type_1_and_Type_2_diabetes\n",
      "6.591397285461426\n",
      "http://www.answers.com/Q/What_happens_if_you_inject_insulin_into_muscle\n",
      "6.309868335723877\n",
      "http://www.livestrong.com/article/27924-insulin-signal-cell-glucose-blood/\n",
      "6.4536333084106445\n",
      "https://www.betterhealth.vic.gov.au/health/conditionsandtreatments/diabetes-and-insulin\n",
      "6.779615879058838\n",
      "https://www.sharecare.com/health/insulin/does-insulin-cause-weight-gain\n",
      "6.559841156005859\n",
      "http://www.askthecatdoctor.com/catinsulin.html\n",
      "7.139853477478027\n",
      "http://www.answers.com/Q/Which_part_of_the_body_produces_insulin\n",
      "6.324942588806152\n",
      "https://www.medtronicdiabetes.com/about-medtronic-innovation/milestone-timeline\n",
      "7.156625747680664\n",
      "https://medlineplus.gov/druginfo/meds/a697021.html\n",
      "7.477443695068359\n",
      "https://www.nlm.nih.gov/medlineplus/druginfo/meds/a697021.html\n",
      "7.477443695068359\n",
      "https://medlineplus.gov/druginfo/meds/a682611.html\n",
      "7.436459541320801\n",
      "https://www.healthline.com/health/type-2diabetes/basal-insulin/how-long-for-insulin-to-work\n",
      "6.991173267364502\n",
      "http://www.ncbi.nlm.nih.gov/pubmedhealth/PMHT0010728/?report=details\n",
      "7.190681457519531\n",
      "http://www.answers.com/Q/Does_bile_come_from_the_pancreas\n",
      "7.0755157470703125\n",
      "https://www.vetinfo.com/how-much-does-dog-diabetes-cost-to-manage.html\n",
      "6.616001129150391\n",
      "https://www.medtronicdiabetes.com/treatments/insulin-pump-therapy\n",
      "7.03582763671875\n",
      "http://www.medtronicdiabetes.com/treatments/insulin-pump-therapy\n",
      "7.03582763671875\n",
      "http://allnurses.com/nursing-student-assistance/when-does-hypoglycemia-773637.html\n",
      "7.582401275634766\n",
      "https://www.sharecare.com/health/diabetes/what-does-insulin-do\n",
      "6.309914588928223\n",
      "http://allnurses.com/nursing-student-assistance/insulin-injection-technique-165830.html\n",
      "8.186746597290039\n",
      "http://www.madehow.com/Volume-7/Insulin.html\n",
      "7.140037536621094\n",
      "https://www.diabeteswellbeing.com/insulin-transfer-glucose-cells/\n",
      "6.366145133972168\n",
      "http://www.consumermedsafety.org/insulin-safety-center/item/420\n",
      "6.359922885894775\n",
      "https://medlineplus.gov/ency/patientinstructions/000660.htm\n",
      "6.582294940948486\n",
      "https://www.nlm.nih.gov/medlineplus/ency/patientinstructions/000660.htm\n",
      "6.582294940948486\n",
      "https://www.reddit.com/r/Supplements/comments/2t6sz1/effects_of_glucose_disposal_agents_on_muscle/\n",
      "7.194377899169922\n",
      "http://www.medscape.org/viewarticle/567952\n",
      "7.47349739074707\n",
      "http://www.upmc.com/patients-visitors/education/diabetes/Pages/insulin-how-to-give-a-shot.aspx\n",
      "6.670591354370117\n",
      "https://www.quora.com/How-much-does-insulin-cost-per-day-for-a-Type-1-diabetic-in-India-on-average\n",
      "7.198935508728027\n",
      "https://www.metaboliceffect.com/worst-food-combination-for-weight-loss/\n",
      "7.560081481933594\n",
      "http://www.answers.com/Q/What_is_the_stimulus_for_the_release_of_insulin\n",
      "6.204340934753418\n",
      "http://www.yourhormones.info/glands/pancreas.aspx\n",
      "6.535534858703613\n",
      "https://www.ncbi.nlm.nih.gov/pubmedhealth/PMHT0010726/?report=details\n",
      "7.153080940246582\n",
      "http://www.diabetes.co.uk/insulin/insulin-side-effects.html\n",
      "6.856966018676758\n",
      "https://www.fda.gov/Drugs/ResourcesForYou/Consumers/QuestionsAnswers/ucm173909.htm\n",
      "6.6167755126953125\n",
      "http://diabetesstopshere.org/2012/08/21/the-history-of-a-wonderful-thing-we-call-insulin/\n",
      "6.520132541656494\n",
      "https://dtc.ucsf.edu/types-of-diabetes/type1/treatment-of-type-1-diabetes/medications-and-therapies/type-1-insulin-pump-therapy/\n",
      "6.376673221588135\n",
      "https://uk.answers.yahoo.com/question/index?qid=20120816145623AANf6mk\n",
      "6.2816033363342285\n",
      "https://www.diabetesnet.com/about-diabetes/insulin/basal-insulins\n",
      "6.6729888916015625\n",
      "http://www.diabetesnet.com/about-diabetes/insulin/basal-insulins\n",
      "6.6729888916015625\n",
      "http://www.diabetesforecast.org/2013/jul/making-insulin.html\n",
      "6.929803371429443\n",
      "https://uk.answers.yahoo.com/question/index?qid=20070516073604AAa0OWb\n",
      "7.163256645202637\n",
      "http://www.uofmhealth.org/health-library/d04839a1\n",
      "7.187901496887207\n",
      "http://diabetes.emedtv.com/insulin/insulin-and-weight-gain.html\n",
      "6.460819721221924\n",
      "https://www.bodybuilding.com/fun/teen-derek20.htm\n",
      "7.176863670349121\n",
      "http://www.medwow.com/used-insulin-pump-equipment/252.med\n",
      "6.406831741333008\n",
      "http://type1.cornerstones4care.com/NovoLog/NovoLogInsulinPumps.aspx\n",
      "6.207420349121094\n",
      "http://www.answers.com/Q/What_organ_secretes_insulin\n",
      "6.257505893707275\n",
      "http://www.petdiabetes.com/pdorg/faq.htm\n",
      "7.380039215087891\n",
      "http://www.diabetes.co.uk/insulin/insulin-sensitivity.html\n",
      "6.4193034172058105\n",
      "http://www.answers.com/Q/Where_are_the_islets_of_Langerhans\n",
      "6.985610008239746\n",
      "https://www.epainassist.com/shock/what-is-insulin-shock\n",
      "6.571842193603516\n"
     ]
    }
   ],
   "source": [
    "query_id = 1000000\n",
    "print(f'Query text: {results.loc[query_id][\"text\"]}')\n",
    "print(\"===================\")\n",
    "print('Relevant document URL:')\n",
    "print(results.loc[query_id]['url'])\n",
    "print()\n",
    "for doc_id in rankings_dict[query_id]:\n",
    "    doc = searcher.doc(doc_id)\n",
    "    print(findURL(doc.raw()))\n",
    "    print(index_reader.compute_query_document_score(doc_id, queries_doc.loc[query_id][\"text\"]))"
   ],
   "metadata": {
    "collapsed": false,
    "pycharm": {
     "name": "#%%\n"
    }
   }
  },
  {
   "cell_type": "code",
   "execution_count": 73,
   "outputs": [
    {
     "data": {
      "text/plain": "          rr    doc_id                                               text  \\\nq_id                                                                        \n1000000  0.0   D149214                  where does real insulin come from   \n227637   0.0  D1156186            how does spicy food affect testosterone   \n225499   0.0  D1848360                  how does apa cite laws internally   \n22231    0.0  D2792164           are eggs or grapes better to fight colds   \n222158   0.0   D968046                  how do you find the mean on excel   \n...      ...       ...                                                ...   \n882002   1.0    D11265                  what normal blood pressure by age   \n1009994  1.0   D487092  _______ ratios measure an organization's abili...   \n116431   1.0  D2978107                                  deed restrictions   \n114573   1.0  D3085498           customer service number for atmos energy   \n168787   1.0  D1645181               does matcha tea lower blood pressure   \n\n                                                       url  bm25_score  \nq_id                                                                    \n1000000              https://en.wikipedia.org/wiki/Insulin    5.795771  \n227637   http://www.dailymail.co.uk/sciencetech/article...   12.297520  \n225499      https://www.wikihow.com/Use-Internal-Citations    6.465944  \n22231    http://allrecipes.com/recipe/34577/cold-rice-s...    5.092932  \n222158   http://www.ehow.com/how_6776563_calculate-mean...    4.904947  \n...                                                    ...         ...  \n882002   https://www.reference.com/health/read-blood-pr...    8.735644  \n1009994   https://www.readyratios.com/reference/liquidity/   17.273161  \n116431   https://definitions.uslegal.com/d/deed-restric...    7.720560  \n114573      https://gethuman.com/phone-number/Atmos-Energy   14.931982  \n168787   https://theflavorproj.com/blogs/superfood-bene...   18.209335  \n\n[5192 rows x 5 columns]",
      "text/html": "<div>\n<style scoped>\n    .dataframe tbody tr th:only-of-type {\n        vertical-align: middle;\n    }\n\n    .dataframe tbody tr th {\n        vertical-align: top;\n    }\n\n    .dataframe thead th {\n        text-align: right;\n    }\n</style>\n<table border=\"1\" class=\"dataframe\">\n  <thead>\n    <tr style=\"text-align: right;\">\n      <th></th>\n      <th>rr</th>\n      <th>doc_id</th>\n      <th>text</th>\n      <th>url</th>\n      <th>bm25_score</th>\n    </tr>\n    <tr>\n      <th>q_id</th>\n      <th></th>\n      <th></th>\n      <th></th>\n      <th></th>\n      <th></th>\n    </tr>\n  </thead>\n  <tbody>\n    <tr>\n      <th>1000000</th>\n      <td>0.0</td>\n      <td>D149214</td>\n      <td>where does real insulin come from</td>\n      <td>https://en.wikipedia.org/wiki/Insulin</td>\n      <td>5.795771</td>\n    </tr>\n    <tr>\n      <th>227637</th>\n      <td>0.0</td>\n      <td>D1156186</td>\n      <td>how does spicy food affect testosterone</td>\n      <td>http://www.dailymail.co.uk/sciencetech/article...</td>\n      <td>12.297520</td>\n    </tr>\n    <tr>\n      <th>225499</th>\n      <td>0.0</td>\n      <td>D1848360</td>\n      <td>how does apa cite laws internally</td>\n      <td>https://www.wikihow.com/Use-Internal-Citations</td>\n      <td>6.465944</td>\n    </tr>\n    <tr>\n      <th>22231</th>\n      <td>0.0</td>\n      <td>D2792164</td>\n      <td>are eggs or grapes better to fight colds</td>\n      <td>http://allrecipes.com/recipe/34577/cold-rice-s...</td>\n      <td>5.092932</td>\n    </tr>\n    <tr>\n      <th>222158</th>\n      <td>0.0</td>\n      <td>D968046</td>\n      <td>how do you find the mean on excel</td>\n      <td>http://www.ehow.com/how_6776563_calculate-mean...</td>\n      <td>4.904947</td>\n    </tr>\n    <tr>\n      <th>...</th>\n      <td>...</td>\n      <td>...</td>\n      <td>...</td>\n      <td>...</td>\n      <td>...</td>\n    </tr>\n    <tr>\n      <th>882002</th>\n      <td>1.0</td>\n      <td>D11265</td>\n      <td>what normal blood pressure by age</td>\n      <td>https://www.reference.com/health/read-blood-pr...</td>\n      <td>8.735644</td>\n    </tr>\n    <tr>\n      <th>1009994</th>\n      <td>1.0</td>\n      <td>D487092</td>\n      <td>_______ ratios measure an organization's abili...</td>\n      <td>https://www.readyratios.com/reference/liquidity/</td>\n      <td>17.273161</td>\n    </tr>\n    <tr>\n      <th>116431</th>\n      <td>1.0</td>\n      <td>D2978107</td>\n      <td>deed restrictions</td>\n      <td>https://definitions.uslegal.com/d/deed-restric...</td>\n      <td>7.720560</td>\n    </tr>\n    <tr>\n      <th>114573</th>\n      <td>1.0</td>\n      <td>D3085498</td>\n      <td>customer service number for atmos energy</td>\n      <td>https://gethuman.com/phone-number/Atmos-Energy</td>\n      <td>14.931982</td>\n    </tr>\n    <tr>\n      <th>168787</th>\n      <td>1.0</td>\n      <td>D1645181</td>\n      <td>does matcha tea lower blood pressure</td>\n      <td>https://theflavorproj.com/blogs/superfood-bene...</td>\n      <td>18.209335</td>\n    </tr>\n  </tbody>\n</table>\n<p>5192 rows × 5 columns</p>\n</div>"
     },
     "execution_count": 73,
     "metadata": {},
     "output_type": "execute_result"
    }
   ],
   "source": [
    "results\n"
   ],
   "metadata": {
    "collapsed": false,
    "pycharm": {
     "name": "#%%\n"
    }
   }
  },
  {
   "cell_type": "code",
   "execution_count": 74,
   "outputs": [
    {
     "data": {
      "text/plain": "          rr    doc_id                                      text  \\\nq_id                                                               \n1000000  0.0   D149214         where does real insulin come from   \n227637   0.0  D1156186   how does spicy food affect testosterone   \n225499   0.0  D1848360         how does apa cite laws internally   \n22231    0.0  D2792164  are eggs or grapes better to fight colds   \n222158   0.0   D968046         how do you find the mean on excel   \n211621   0.0   D730986           how close is a meter to a yard?   \n211468   0.0  D2287221                        how car gears work   \n210442   0.0  D2309275  how can i get more energy while pregnant   \n209764   0.0   D376092        how breathing takes place in human   \n207595   0.0  D1156231                  how are mlb players paid   \n\n                                                       url  bm25_score  \nq_id                                                                    \n1000000              https://en.wikipedia.org/wiki/Insulin    5.795771  \n227637   http://www.dailymail.co.uk/sciencetech/article...   12.297520  \n225499      https://www.wikihow.com/Use-Internal-Citations    6.465944  \n22231    http://allrecipes.com/recipe/34577/cold-rice-s...    5.092932  \n222158   http://www.ehow.com/how_6776563_calculate-mean...    4.904947  \n211621   http://www.asknumbers.com/MetersToYardsConvers...    7.763941  \n211468      http://auto.howstuffworks.com/transmission.htm    6.740464  \n210442   http://www.wikihow.com/Gain-Energy-During-Preg...    4.209955  \n209764   https://en.wikibooks.org/wiki/Human_Physiology...    6.516494  \n207595   http://www.businessinsider.com/major-league-ba...    8.368806  ",
      "text/html": "<div>\n<style scoped>\n    .dataframe tbody tr th:only-of-type {\n        vertical-align: middle;\n    }\n\n    .dataframe tbody tr th {\n        vertical-align: top;\n    }\n\n    .dataframe thead th {\n        text-align: right;\n    }\n</style>\n<table border=\"1\" class=\"dataframe\">\n  <thead>\n    <tr style=\"text-align: right;\">\n      <th></th>\n      <th>rr</th>\n      <th>doc_id</th>\n      <th>text</th>\n      <th>url</th>\n      <th>bm25_score</th>\n    </tr>\n    <tr>\n      <th>q_id</th>\n      <th></th>\n      <th></th>\n      <th></th>\n      <th></th>\n      <th></th>\n    </tr>\n  </thead>\n  <tbody>\n    <tr>\n      <th>1000000</th>\n      <td>0.0</td>\n      <td>D149214</td>\n      <td>where does real insulin come from</td>\n      <td>https://en.wikipedia.org/wiki/Insulin</td>\n      <td>5.795771</td>\n    </tr>\n    <tr>\n      <th>227637</th>\n      <td>0.0</td>\n      <td>D1156186</td>\n      <td>how does spicy food affect testosterone</td>\n      <td>http://www.dailymail.co.uk/sciencetech/article...</td>\n      <td>12.297520</td>\n    </tr>\n    <tr>\n      <th>225499</th>\n      <td>0.0</td>\n      <td>D1848360</td>\n      <td>how does apa cite laws internally</td>\n      <td>https://www.wikihow.com/Use-Internal-Citations</td>\n      <td>6.465944</td>\n    </tr>\n    <tr>\n      <th>22231</th>\n      <td>0.0</td>\n      <td>D2792164</td>\n      <td>are eggs or grapes better to fight colds</td>\n      <td>http://allrecipes.com/recipe/34577/cold-rice-s...</td>\n      <td>5.092932</td>\n    </tr>\n    <tr>\n      <th>222158</th>\n      <td>0.0</td>\n      <td>D968046</td>\n      <td>how do you find the mean on excel</td>\n      <td>http://www.ehow.com/how_6776563_calculate-mean...</td>\n      <td>4.904947</td>\n    </tr>\n    <tr>\n      <th>211621</th>\n      <td>0.0</td>\n      <td>D730986</td>\n      <td>how close is a meter to a yard?</td>\n      <td>http://www.asknumbers.com/MetersToYardsConvers...</td>\n      <td>7.763941</td>\n    </tr>\n    <tr>\n      <th>211468</th>\n      <td>0.0</td>\n      <td>D2287221</td>\n      <td>how car gears work</td>\n      <td>http://auto.howstuffworks.com/transmission.htm</td>\n      <td>6.740464</td>\n    </tr>\n    <tr>\n      <th>210442</th>\n      <td>0.0</td>\n      <td>D2309275</td>\n      <td>how can i get more energy while pregnant</td>\n      <td>http://www.wikihow.com/Gain-Energy-During-Preg...</td>\n      <td>4.209955</td>\n    </tr>\n    <tr>\n      <th>209764</th>\n      <td>0.0</td>\n      <td>D376092</td>\n      <td>how breathing takes place in human</td>\n      <td>https://en.wikibooks.org/wiki/Human_Physiology...</td>\n      <td>6.516494</td>\n    </tr>\n    <tr>\n      <th>207595</th>\n      <td>0.0</td>\n      <td>D1156231</td>\n      <td>how are mlb players paid</td>\n      <td>http://www.businessinsider.com/major-league-ba...</td>\n      <td>8.368806</td>\n    </tr>\n  </tbody>\n</table>\n</div>"
     },
     "execution_count": 74,
     "metadata": {},
     "output_type": "execute_result"
    }
   ],
   "source": [
    "mine = [1000000, 227637, 225499, 22231, 222158, 211621, 211468, 210442, 209764, 207595]\n",
    "results.loc[mine]"
   ],
   "metadata": {
    "collapsed": false,
    "pycharm": {
     "name": "#%%\n"
    }
   }
  },
  {
   "cell_type": "markdown",
   "source": [],
   "metadata": {
    "collapsed": false,
    "pycharm": {
     "name": "#%% md\n"
    }
   }
  },
  {
   "cell_type": "code",
   "execution_count": 77,
   "outputs": [
    {
     "data": {
      "text/plain": "          rr    doc_id                                               text  \\\nq_id                                                                        \n1000000  0.0   D149214                  where does real insulin come from   \n227637   0.0  D1156186            how does spicy food affect testosterone   \n225499   0.0  D1848360                  how does apa cite laws internally   \n22231    0.0  D2792164           are eggs or grapes better to fight colds   \n222158   0.0   D968046                  how do you find the mean on excel   \n...      ...       ...                                                ...   \n882002   1.0    D11265                  what normal blood pressure by age   \n1009994  1.0   D487092  _______ ratios measure an organization's abili...   \n116431   1.0  D2978107                                  deed restrictions   \n114573   1.0  D3085498           customer service number for atmos energy   \n168787   1.0  D1645181               does matcha tea lower blood pressure   \n\n                                                       url  bm25_score  \\\nq_id                                                                     \n1000000              https://en.wikipedia.org/wiki/Insulin    5.795771   \n227637   http://www.dailymail.co.uk/sciencetech/article...   12.297520   \n225499      https://www.wikihow.com/Use-Internal-Citations    6.465944   \n22231    http://allrecipes.com/recipe/34577/cold-rice-s...    5.092932   \n222158   http://www.ehow.com/how_6776563_calculate-mean...    4.904947   \n...                                                    ...         ...   \n882002   https://www.reference.com/health/read-blood-pr...    8.735644   \n1009994   https://www.readyratios.com/reference/liquidity/   17.273161   \n116431   https://definitions.uslegal.com/d/deed-restric...    7.720560   \n114573      https://gethuman.com/phone-number/Atmos-Energy   14.931982   \n168787   https://theflavorproj.com/blogs/superfood-bene...   18.209335   \n\n                          domain  \nq_id                              \n1000000         en.wikipedia.org  \n227637       www.dailymail.co.uk  \n225499           www.wikihow.com  \n22231             allrecipes.com  \n222158              www.ehow.com  \n...                          ...  \n882002         www.reference.com  \n1009994      www.readyratios.com  \n116431   definitions.uslegal.com  \n114573              gethuman.com  \n168787         theflavorproj.com  \n\n[5192 rows x 6 columns]",
      "text/html": "<div>\n<style scoped>\n    .dataframe tbody tr th:only-of-type {\n        vertical-align: middle;\n    }\n\n    .dataframe tbody tr th {\n        vertical-align: top;\n    }\n\n    .dataframe thead th {\n        text-align: right;\n    }\n</style>\n<table border=\"1\" class=\"dataframe\">\n  <thead>\n    <tr style=\"text-align: right;\">\n      <th></th>\n      <th>rr</th>\n      <th>doc_id</th>\n      <th>text</th>\n      <th>url</th>\n      <th>bm25_score</th>\n      <th>domain</th>\n    </tr>\n    <tr>\n      <th>q_id</th>\n      <th></th>\n      <th></th>\n      <th></th>\n      <th></th>\n      <th></th>\n      <th></th>\n    </tr>\n  </thead>\n  <tbody>\n    <tr>\n      <th>1000000</th>\n      <td>0.0</td>\n      <td>D149214</td>\n      <td>where does real insulin come from</td>\n      <td>https://en.wikipedia.org/wiki/Insulin</td>\n      <td>5.795771</td>\n      <td>en.wikipedia.org</td>\n    </tr>\n    <tr>\n      <th>227637</th>\n      <td>0.0</td>\n      <td>D1156186</td>\n      <td>how does spicy food affect testosterone</td>\n      <td>http://www.dailymail.co.uk/sciencetech/article...</td>\n      <td>12.297520</td>\n      <td>www.dailymail.co.uk</td>\n    </tr>\n    <tr>\n      <th>225499</th>\n      <td>0.0</td>\n      <td>D1848360</td>\n      <td>how does apa cite laws internally</td>\n      <td>https://www.wikihow.com/Use-Internal-Citations</td>\n      <td>6.465944</td>\n      <td>www.wikihow.com</td>\n    </tr>\n    <tr>\n      <th>22231</th>\n      <td>0.0</td>\n      <td>D2792164</td>\n      <td>are eggs or grapes better to fight colds</td>\n      <td>http://allrecipes.com/recipe/34577/cold-rice-s...</td>\n      <td>5.092932</td>\n      <td>allrecipes.com</td>\n    </tr>\n    <tr>\n      <th>222158</th>\n      <td>0.0</td>\n      <td>D968046</td>\n      <td>how do you find the mean on excel</td>\n      <td>http://www.ehow.com/how_6776563_calculate-mean...</td>\n      <td>4.904947</td>\n      <td>www.ehow.com</td>\n    </tr>\n    <tr>\n      <th>...</th>\n      <td>...</td>\n      <td>...</td>\n      <td>...</td>\n      <td>...</td>\n      <td>...</td>\n      <td>...</td>\n    </tr>\n    <tr>\n      <th>882002</th>\n      <td>1.0</td>\n      <td>D11265</td>\n      <td>what normal blood pressure by age</td>\n      <td>https://www.reference.com/health/read-blood-pr...</td>\n      <td>8.735644</td>\n      <td>www.reference.com</td>\n    </tr>\n    <tr>\n      <th>1009994</th>\n      <td>1.0</td>\n      <td>D487092</td>\n      <td>_______ ratios measure an organization's abili...</td>\n      <td>https://www.readyratios.com/reference/liquidity/</td>\n      <td>17.273161</td>\n      <td>www.readyratios.com</td>\n    </tr>\n    <tr>\n      <th>116431</th>\n      <td>1.0</td>\n      <td>D2978107</td>\n      <td>deed restrictions</td>\n      <td>https://definitions.uslegal.com/d/deed-restric...</td>\n      <td>7.720560</td>\n      <td>definitions.uslegal.com</td>\n    </tr>\n    <tr>\n      <th>114573</th>\n      <td>1.0</td>\n      <td>D3085498</td>\n      <td>customer service number for atmos energy</td>\n      <td>https://gethuman.com/phone-number/Atmos-Energy</td>\n      <td>14.931982</td>\n      <td>gethuman.com</td>\n    </tr>\n    <tr>\n      <th>168787</th>\n      <td>1.0</td>\n      <td>D1645181</td>\n      <td>does matcha tea lower blood pressure</td>\n      <td>https://theflavorproj.com/blogs/superfood-bene...</td>\n      <td>18.209335</td>\n      <td>theflavorproj.com</td>\n    </tr>\n  </tbody>\n</table>\n<p>5192 rows × 6 columns</p>\n</div>"
     },
     "execution_count": 77,
     "metadata": {},
     "output_type": "execute_result"
    }
   ],
   "source": [
    "from urllib.parse import urlparse\n",
    "\n",
    "results['domain'] = [urlparse(url).netloc for (q_id, (_, doc_id, text, url, _)) in results.iterrows()]\n",
    "results"
   ],
   "metadata": {
    "collapsed": false,
    "pycharm": {
     "name": "#%%\n"
    }
   }
  },
  {
   "cell_type": "markdown",
   "source": [],
   "metadata": {
    "collapsed": false
   }
  },
  {
   "cell_type": "code",
   "execution_count": 77,
   "outputs": [],
   "source": [],
   "metadata": {
    "collapsed": false,
    "pycharm": {
     "name": "#%%\n"
    }
   }
  },
  {
   "cell_type": "code",
   "execution_count": 78,
   "outputs": [
    {
     "data": {
      "text/plain": "domain\nen.wikipedia.org                   618\nwww.answers.com                    142\nwww.reference.com                   92\nwww.quora.com                       69\nanswers.yahoo.com                   62\n                                  ... \nwww.acceptancerate.com               1\nwww.abundance-and-happiness.com      1\nwww.abswood.com                      1\nwww.aboutlanguageschools.com         1\nzetcode.com                          1\nLength: 2461, dtype: int64"
     },
     "execution_count": 78,
     "metadata": {},
     "output_type": "execute_result"
    }
   ],
   "source": [
    "results.groupby(['domain']).size().sort_values(ascending=False)"
   ],
   "metadata": {
    "collapsed": false,
    "pycharm": {
     "name": "#%%\n"
    }
   }
  },
  {
   "cell_type": "code",
   "execution_count": null,
   "outputs": [],
   "source": [],
   "metadata": {
    "collapsed": false,
    "pycharm": {
     "name": "#%%\n"
    }
   }
  }
 ],
 "metadata": {
  "kernelspec": {
   "display_name": "Python 3",
   "language": "python",
   "name": "python3"
  },
  "language_info": {
   "codemirror_mode": {
    "name": "ipython",
    "version": 2
   },
   "file_extension": ".py",
   "mimetype": "text/x-python",
   "name": "python",
   "nbconvert_exporter": "python",
   "pygments_lexer": "ipython2",
   "version": "2.7.6"
  }
 },
 "nbformat": 4,
 "nbformat_minor": 0
}