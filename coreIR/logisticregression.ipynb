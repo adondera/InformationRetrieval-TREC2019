{
 "cells": [
  {
   "cell_type": "code",
   "execution_count": 118,
   "metadata": {
    "collapsed": true
   },
   "outputs": [],
   "source": [
    "import numpy as np\n",
    "import pandas as pd\n",
    "from sklearn.linear_model import LogisticRegression\n",
    "from sklearn.metrics import f1_score"
   ]
  },
  {
   "cell_type": "code",
   "execution_count": 119,
   "outputs": [],
   "source": [
    "df = pd.read_csv('X_train.csv')\n",
    "nbr_of_rows = len(df)\n",
    "split_point = int(nbr_of_rows / 10 * 8)\n",
    "train_df = df[:split_point]  # first 80%\n",
    "validation_df = df[split_point:]  # remaining 20%"
   ],
   "metadata": {
    "collapsed": false,
    "pycharm": {
     "name": "#%%\n"
    }
   }
  },
  {
   "cell_type": "code",
   "execution_count": 119,
   "outputs": [],
   "source": [],
   "metadata": {
    "collapsed": false,
    "pycharm": {
     "name": "#%%\n"
    }
   }
  },
  {
   "cell_type": "code",
   "execution_count": 120,
   "outputs": [],
   "source": [
    "X_train = train_df.drop([\"q_id\", \"rel\"], axis=1)\n",
    "y_train = train_df[\"rel\"]\n",
    "\n",
    "X_validation = validation_df.drop([\"q_id\", \"rel\"], axis=1)\n",
    "y_validation = validation_df[\"rel\"]\n"
   ],
   "metadata": {
    "collapsed": false,
    "pycharm": {
     "name": "#%%\n"
    }
   }
  },
  {
   "cell_type": "code",
   "execution_count": 121,
   "outputs": [
    {
     "data": {
      "text/plain": "              1         2         3          4     5    6  7   8\n0     12.416857  0.433013  0.112903  13.782650  2827   81  4  50\n1     13.119300  0.635571  0.168337  13.782650  4859   73  4  50\n2     13.035340  0.366829  0.100407  13.782650  6470   70  4  50\n3     12.894505  0.700222  0.197279  13.782650  2693  133  7  50\n4      7.818214  0.371969  0.089655  15.364447  2254   70  4  46\n...         ...       ...       ...        ...   ...  ... ..  ..\n3700  19.494394  1.197688  0.534772  20.729592  3453   63  4  74\n3701  19.536617  0.949154  0.455782  20.729592  3733   87  4  74\n3702  18.287802  1.002268  0.477876  20.729592  1843   73  4  74\n3703  18.144333  0.841441  0.355634  20.729592  2423   88  4  74\n3704  10.728388  0.391584  0.131783  13.491689  2241   71  4  36\n\n[3705 rows x 8 columns]",
      "text/html": "<div>\n<style scoped>\n    .dataframe tbody tr th:only-of-type {\n        vertical-align: middle;\n    }\n\n    .dataframe tbody tr th {\n        vertical-align: top;\n    }\n\n    .dataframe thead th {\n        text-align: right;\n    }\n</style>\n<table border=\"1\" class=\"dataframe\">\n  <thead>\n    <tr style=\"text-align: right;\">\n      <th></th>\n      <th>1</th>\n      <th>2</th>\n      <th>3</th>\n      <th>4</th>\n      <th>5</th>\n      <th>6</th>\n      <th>7</th>\n      <th>8</th>\n    </tr>\n  </thead>\n  <tbody>\n    <tr>\n      <th>0</th>\n      <td>12.416857</td>\n      <td>0.433013</td>\n      <td>0.112903</td>\n      <td>13.782650</td>\n      <td>2827</td>\n      <td>81</td>\n      <td>4</td>\n      <td>50</td>\n    </tr>\n    <tr>\n      <th>1</th>\n      <td>13.119300</td>\n      <td>0.635571</td>\n      <td>0.168337</td>\n      <td>13.782650</td>\n      <td>4859</td>\n      <td>73</td>\n      <td>4</td>\n      <td>50</td>\n    </tr>\n    <tr>\n      <th>2</th>\n      <td>13.035340</td>\n      <td>0.366829</td>\n      <td>0.100407</td>\n      <td>13.782650</td>\n      <td>6470</td>\n      <td>70</td>\n      <td>4</td>\n      <td>50</td>\n    </tr>\n    <tr>\n      <th>3</th>\n      <td>12.894505</td>\n      <td>0.700222</td>\n      <td>0.197279</td>\n      <td>13.782650</td>\n      <td>2693</td>\n      <td>133</td>\n      <td>7</td>\n      <td>50</td>\n    </tr>\n    <tr>\n      <th>4</th>\n      <td>7.818214</td>\n      <td>0.371969</td>\n      <td>0.089655</td>\n      <td>15.364447</td>\n      <td>2254</td>\n      <td>70</td>\n      <td>4</td>\n      <td>46</td>\n    </tr>\n    <tr>\n      <th>...</th>\n      <td>...</td>\n      <td>...</td>\n      <td>...</td>\n      <td>...</td>\n      <td>...</td>\n      <td>...</td>\n      <td>...</td>\n      <td>...</td>\n    </tr>\n    <tr>\n      <th>3700</th>\n      <td>19.494394</td>\n      <td>1.197688</td>\n      <td>0.534772</td>\n      <td>20.729592</td>\n      <td>3453</td>\n      <td>63</td>\n      <td>4</td>\n      <td>74</td>\n    </tr>\n    <tr>\n      <th>3701</th>\n      <td>19.536617</td>\n      <td>0.949154</td>\n      <td>0.455782</td>\n      <td>20.729592</td>\n      <td>3733</td>\n      <td>87</td>\n      <td>4</td>\n      <td>74</td>\n    </tr>\n    <tr>\n      <th>3702</th>\n      <td>18.287802</td>\n      <td>1.002268</td>\n      <td>0.477876</td>\n      <td>20.729592</td>\n      <td>1843</td>\n      <td>73</td>\n      <td>4</td>\n      <td>74</td>\n    </tr>\n    <tr>\n      <th>3703</th>\n      <td>18.144333</td>\n      <td>0.841441</td>\n      <td>0.355634</td>\n      <td>20.729592</td>\n      <td>2423</td>\n      <td>88</td>\n      <td>4</td>\n      <td>74</td>\n    </tr>\n    <tr>\n      <th>3704</th>\n      <td>10.728388</td>\n      <td>0.391584</td>\n      <td>0.131783</td>\n      <td>13.491689</td>\n      <td>2241</td>\n      <td>71</td>\n      <td>4</td>\n      <td>36</td>\n    </tr>\n  </tbody>\n</table>\n<p>3705 rows × 8 columns</p>\n</div>"
     },
     "execution_count": 121,
     "metadata": {},
     "output_type": "execute_result"
    }
   ],
   "source": [
    "X_train"
   ],
   "metadata": {
    "collapsed": false,
    "pycharm": {
     "name": "#%%\n"
    }
   }
  },
  {
   "cell_type": "code",
   "execution_count": 122,
   "outputs": [
    {
     "data": {
      "text/plain": "LogisticRegression(max_iter=5000)"
     },
     "execution_count": 122,
     "metadata": {},
     "output_type": "execute_result"
    }
   ],
   "source": [
    "model = LogisticRegression(max_iter=5000)\n",
    "\n",
    "model.fit(\n",
    "    X=X_train,\n",
    "    y=y_train\n",
    ")"
   ],
   "metadata": {
    "collapsed": false,
    "pycharm": {
     "name": "#%%\n"
    }
   }
  },
  {
   "cell_type": "code",
   "execution_count": 123,
   "outputs": [
    {
     "data": {
      "text/plain": "0.778856526429342"
     },
     "execution_count": 123,
     "metadata": {},
     "output_type": "execute_result"
    }
   ],
   "source": [
    "score = model.score(X_validation, y_validation)\n",
    "score"
   ],
   "metadata": {
    "collapsed": false,
    "pycharm": {
     "name": "#%%\n"
    }
   }
  },
  {
   "cell_type": "code",
   "execution_count": 124,
   "outputs": [
    {
     "data": {
      "text/plain": "0.20233463035019456"
     },
     "execution_count": 124,
     "metadata": {},
     "output_type": "execute_result"
    }
   ],
   "source": [
    "y_predicted = model.predict(X_validation)\n",
    "f1_score(y_validation, y_predicted)"
   ],
   "metadata": {
    "collapsed": false,
    "pycharm": {
     "name": "#%%\n"
    }
   }
  },
  {
   "cell_type": "code",
   "execution_count": 125,
   "outputs": [
    {
     "data": {
      "text/plain": "              1         2         3         4      5   6  7   8     q_id  \\\n0      7.003504  0.210713  0.129187  7.729339   4602  37  4  41  1104031   \n1      7.177691  0.104355  0.069088  7.729339   9953  56  5  41  1104031   \n2      6.467798  0.190917  0.100604  7.729339   4761  69  4  41  1104031   \n3      6.730981  0.362539  0.205607  7.729339   5246  56  4  41  1104031   \n4      6.730981  0.362539  0.205607  7.729339   5245  55  4  41  1104031   \n...         ...       ...       ...       ...    ...  .. ..  ..      ...   \n19995  5.935711  0.079121  0.042961  8.578480  16495  68  5  24   634428   \n19996  5.539033  0.168392  0.043974  8.578480   4351  61  6  24   634428   \n19997  5.357733  0.128297  0.035461  8.578480   7336  63  7  24   634428   \n19998  6.852679  0.069790  0.017391  8.578480  23751  61  6  24   634428   \n19999  5.771720  0.123527  0.032658  8.578480  13102  61  7  24   634428   \n\n         doc_id  \n0      D2401591  \n1      D3065828  \n2       D772274  \n3      D3335222  \n4        D67568  \n...         ...  \n19995  D1138539  \n19996  D1464474  \n19997   D537515  \n19998   D228927  \n19999  D3151004  \n\n[20000 rows x 10 columns]",
      "text/html": "<div>\n<style scoped>\n    .dataframe tbody tr th:only-of-type {\n        vertical-align: middle;\n    }\n\n    .dataframe tbody tr th {\n        vertical-align: top;\n    }\n\n    .dataframe thead th {\n        text-align: right;\n    }\n</style>\n<table border=\"1\" class=\"dataframe\">\n  <thead>\n    <tr style=\"text-align: right;\">\n      <th></th>\n      <th>1</th>\n      <th>2</th>\n      <th>3</th>\n      <th>4</th>\n      <th>5</th>\n      <th>6</th>\n      <th>7</th>\n      <th>8</th>\n      <th>q_id</th>\n      <th>doc_id</th>\n    </tr>\n  </thead>\n  <tbody>\n    <tr>\n      <th>0</th>\n      <td>7.003504</td>\n      <td>0.210713</td>\n      <td>0.129187</td>\n      <td>7.729339</td>\n      <td>4602</td>\n      <td>37</td>\n      <td>4</td>\n      <td>41</td>\n      <td>1104031</td>\n      <td>D2401591</td>\n    </tr>\n    <tr>\n      <th>1</th>\n      <td>7.177691</td>\n      <td>0.104355</td>\n      <td>0.069088</td>\n      <td>7.729339</td>\n      <td>9953</td>\n      <td>56</td>\n      <td>5</td>\n      <td>41</td>\n      <td>1104031</td>\n      <td>D3065828</td>\n    </tr>\n    <tr>\n      <th>2</th>\n      <td>6.467798</td>\n      <td>0.190917</td>\n      <td>0.100604</td>\n      <td>7.729339</td>\n      <td>4761</td>\n      <td>69</td>\n      <td>4</td>\n      <td>41</td>\n      <td>1104031</td>\n      <td>D772274</td>\n    </tr>\n    <tr>\n      <th>3</th>\n      <td>6.730981</td>\n      <td>0.362539</td>\n      <td>0.205607</td>\n      <td>7.729339</td>\n      <td>5246</td>\n      <td>56</td>\n      <td>4</td>\n      <td>41</td>\n      <td>1104031</td>\n      <td>D3335222</td>\n    </tr>\n    <tr>\n      <th>4</th>\n      <td>6.730981</td>\n      <td>0.362539</td>\n      <td>0.205607</td>\n      <td>7.729339</td>\n      <td>5245</td>\n      <td>55</td>\n      <td>4</td>\n      <td>41</td>\n      <td>1104031</td>\n      <td>D67568</td>\n    </tr>\n    <tr>\n      <th>...</th>\n      <td>...</td>\n      <td>...</td>\n      <td>...</td>\n      <td>...</td>\n      <td>...</td>\n      <td>...</td>\n      <td>...</td>\n      <td>...</td>\n      <td>...</td>\n      <td>...</td>\n    </tr>\n    <tr>\n      <th>19995</th>\n      <td>5.935711</td>\n      <td>0.079121</td>\n      <td>0.042961</td>\n      <td>8.578480</td>\n      <td>16495</td>\n      <td>68</td>\n      <td>5</td>\n      <td>24</td>\n      <td>634428</td>\n      <td>D1138539</td>\n    </tr>\n    <tr>\n      <th>19996</th>\n      <td>5.539033</td>\n      <td>0.168392</td>\n      <td>0.043974</td>\n      <td>8.578480</td>\n      <td>4351</td>\n      <td>61</td>\n      <td>6</td>\n      <td>24</td>\n      <td>634428</td>\n      <td>D1464474</td>\n    </tr>\n    <tr>\n      <th>19997</th>\n      <td>5.357733</td>\n      <td>0.128297</td>\n      <td>0.035461</td>\n      <td>8.578480</td>\n      <td>7336</td>\n      <td>63</td>\n      <td>7</td>\n      <td>24</td>\n      <td>634428</td>\n      <td>D537515</td>\n    </tr>\n    <tr>\n      <th>19998</th>\n      <td>6.852679</td>\n      <td>0.069790</td>\n      <td>0.017391</td>\n      <td>8.578480</td>\n      <td>23751</td>\n      <td>61</td>\n      <td>6</td>\n      <td>24</td>\n      <td>634428</td>\n      <td>D228927</td>\n    </tr>\n    <tr>\n      <th>19999</th>\n      <td>5.771720</td>\n      <td>0.123527</td>\n      <td>0.032658</td>\n      <td>8.578480</td>\n      <td>13102</td>\n      <td>61</td>\n      <td>7</td>\n      <td>24</td>\n      <td>634428</td>\n      <td>D3151004</td>\n    </tr>\n  </tbody>\n</table>\n<p>20000 rows × 10 columns</p>\n</div>"
     },
     "execution_count": 125,
     "metadata": {},
     "output_type": "execute_result"
    }
   ],
   "source": [
    "# By now the model is trained - we evaluate on the test collection\n",
    "dev_results = pd.read_csv('test-bm25-features.csv')\n",
    "dev_results"
   ],
   "metadata": {
    "collapsed": false,
    "pycharm": {
     "name": "#%%\n"
    }
   }
  },
  {
   "cell_type": "code",
   "execution_count": 126,
   "outputs": [
    {
     "data": {
      "text/plain": "              1         2         3         4      5   6  7   8\n0      7.003504  0.210713  0.129187  7.729339   4602  37  4  41\n1      7.177691  0.104355  0.069088  7.729339   9953  56  5  41\n2      6.467798  0.190917  0.100604  7.729339   4761  69  4  41\n3      6.730981  0.362539  0.205607  7.729339   5246  56  4  41\n4      6.730981  0.362539  0.205607  7.729339   5245  55  4  41\n...         ...       ...       ...       ...    ...  .. ..  ..\n19995  5.935711  0.079121  0.042961  8.578480  16495  68  5  24\n19996  5.539033  0.168392  0.043974  8.578480   4351  61  6  24\n19997  5.357733  0.128297  0.035461  8.578480   7336  63  7  24\n19998  6.852679  0.069790  0.017391  8.578480  23751  61  6  24\n19999  5.771720  0.123527  0.032658  8.578480  13102  61  7  24\n\n[20000 rows x 8 columns]",
      "text/html": "<div>\n<style scoped>\n    .dataframe tbody tr th:only-of-type {\n        vertical-align: middle;\n    }\n\n    .dataframe tbody tr th {\n        vertical-align: top;\n    }\n\n    .dataframe thead th {\n        text-align: right;\n    }\n</style>\n<table border=\"1\" class=\"dataframe\">\n  <thead>\n    <tr style=\"text-align: right;\">\n      <th></th>\n      <th>1</th>\n      <th>2</th>\n      <th>3</th>\n      <th>4</th>\n      <th>5</th>\n      <th>6</th>\n      <th>7</th>\n      <th>8</th>\n    </tr>\n  </thead>\n  <tbody>\n    <tr>\n      <th>0</th>\n      <td>7.003504</td>\n      <td>0.210713</td>\n      <td>0.129187</td>\n      <td>7.729339</td>\n      <td>4602</td>\n      <td>37</td>\n      <td>4</td>\n      <td>41</td>\n    </tr>\n    <tr>\n      <th>1</th>\n      <td>7.177691</td>\n      <td>0.104355</td>\n      <td>0.069088</td>\n      <td>7.729339</td>\n      <td>9953</td>\n      <td>56</td>\n      <td>5</td>\n      <td>41</td>\n    </tr>\n    <tr>\n      <th>2</th>\n      <td>6.467798</td>\n      <td>0.190917</td>\n      <td>0.100604</td>\n      <td>7.729339</td>\n      <td>4761</td>\n      <td>69</td>\n      <td>4</td>\n      <td>41</td>\n    </tr>\n    <tr>\n      <th>3</th>\n      <td>6.730981</td>\n      <td>0.362539</td>\n      <td>0.205607</td>\n      <td>7.729339</td>\n      <td>5246</td>\n      <td>56</td>\n      <td>4</td>\n      <td>41</td>\n    </tr>\n    <tr>\n      <th>4</th>\n      <td>6.730981</td>\n      <td>0.362539</td>\n      <td>0.205607</td>\n      <td>7.729339</td>\n      <td>5245</td>\n      <td>55</td>\n      <td>4</td>\n      <td>41</td>\n    </tr>\n    <tr>\n      <th>...</th>\n      <td>...</td>\n      <td>...</td>\n      <td>...</td>\n      <td>...</td>\n      <td>...</td>\n      <td>...</td>\n      <td>...</td>\n      <td>...</td>\n    </tr>\n    <tr>\n      <th>19995</th>\n      <td>5.935711</td>\n      <td>0.079121</td>\n      <td>0.042961</td>\n      <td>8.578480</td>\n      <td>16495</td>\n      <td>68</td>\n      <td>5</td>\n      <td>24</td>\n    </tr>\n    <tr>\n      <th>19996</th>\n      <td>5.539033</td>\n      <td>0.168392</td>\n      <td>0.043974</td>\n      <td>8.578480</td>\n      <td>4351</td>\n      <td>61</td>\n      <td>6</td>\n      <td>24</td>\n    </tr>\n    <tr>\n      <th>19997</th>\n      <td>5.357733</td>\n      <td>0.128297</td>\n      <td>0.035461</td>\n      <td>8.578480</td>\n      <td>7336</td>\n      <td>63</td>\n      <td>7</td>\n      <td>24</td>\n    </tr>\n    <tr>\n      <th>19998</th>\n      <td>6.852679</td>\n      <td>0.069790</td>\n      <td>0.017391</td>\n      <td>8.578480</td>\n      <td>23751</td>\n      <td>61</td>\n      <td>6</td>\n      <td>24</td>\n    </tr>\n    <tr>\n      <th>19999</th>\n      <td>5.771720</td>\n      <td>0.123527</td>\n      <td>0.032658</td>\n      <td>8.578480</td>\n      <td>13102</td>\n      <td>61</td>\n      <td>7</td>\n      <td>24</td>\n    </tr>\n  </tbody>\n</table>\n<p>20000 rows × 8 columns</p>\n</div>"
     },
     "execution_count": 126,
     "metadata": {},
     "output_type": "execute_result"
    }
   ],
   "source": [
    "feature_rows = dev_results.drop([\"q_id\", \"doc_id\"], axis=1)\n",
    "feature_rows"
   ],
   "metadata": {
    "collapsed": false,
    "pycharm": {
     "name": "#%%\n"
    }
   }
  },
  {
   "cell_type": "code",
   "execution_count": 127,
   "outputs": [
    {
     "data": {
      "text/plain": "              1         2         3         4      5   6  7   8     q_id  \\\n0      7.003504  0.210713  0.129187  7.729339   4602  37  4  41  1104031   \n1      7.177691  0.104355  0.069088  7.729339   9953  56  5  41  1104031   \n2      6.467798  0.190917  0.100604  7.729339   4761  69  4  41  1104031   \n3      6.730981  0.362539  0.205607  7.729339   5246  56  4  41  1104031   \n4      6.730981  0.362539  0.205607  7.729339   5245  55  4  41  1104031   \n...         ...       ...       ...       ...    ...  .. ..  ..      ...   \n19995  5.935711  0.079121  0.042961  8.578480  16495  68  5  24   634428   \n19996  5.539033  0.168392  0.043974  8.578480   4351  61  6  24   634428   \n19997  5.357733  0.128297  0.035461  8.578480   7336  63  7  24   634428   \n19998  6.852679  0.069790  0.017391  8.578480  23751  61  6  24   634428   \n19999  5.771720  0.123527  0.032658  8.578480  13102  61  7  24   634428   \n\n         doc_id  relevance  \n0      D2401591          0  \n1      D3065828          0  \n2       D772274          0  \n3      D3335222          0  \n4        D67568          0  \n...         ...        ...  \n19995  D1138539          0  \n19996  D1464474          0  \n19997   D537515          0  \n19998   D228927          0  \n19999  D3151004          0  \n\n[20000 rows x 11 columns]",
      "text/html": "<div>\n<style scoped>\n    .dataframe tbody tr th:only-of-type {\n        vertical-align: middle;\n    }\n\n    .dataframe tbody tr th {\n        vertical-align: top;\n    }\n\n    .dataframe thead th {\n        text-align: right;\n    }\n</style>\n<table border=\"1\" class=\"dataframe\">\n  <thead>\n    <tr style=\"text-align: right;\">\n      <th></th>\n      <th>1</th>\n      <th>2</th>\n      <th>3</th>\n      <th>4</th>\n      <th>5</th>\n      <th>6</th>\n      <th>7</th>\n      <th>8</th>\n      <th>q_id</th>\n      <th>doc_id</th>\n      <th>relevance</th>\n    </tr>\n  </thead>\n  <tbody>\n    <tr>\n      <th>0</th>\n      <td>7.003504</td>\n      <td>0.210713</td>\n      <td>0.129187</td>\n      <td>7.729339</td>\n      <td>4602</td>\n      <td>37</td>\n      <td>4</td>\n      <td>41</td>\n      <td>1104031</td>\n      <td>D2401591</td>\n      <td>0</td>\n    </tr>\n    <tr>\n      <th>1</th>\n      <td>7.177691</td>\n      <td>0.104355</td>\n      <td>0.069088</td>\n      <td>7.729339</td>\n      <td>9953</td>\n      <td>56</td>\n      <td>5</td>\n      <td>41</td>\n      <td>1104031</td>\n      <td>D3065828</td>\n      <td>0</td>\n    </tr>\n    <tr>\n      <th>2</th>\n      <td>6.467798</td>\n      <td>0.190917</td>\n      <td>0.100604</td>\n      <td>7.729339</td>\n      <td>4761</td>\n      <td>69</td>\n      <td>4</td>\n      <td>41</td>\n      <td>1104031</td>\n      <td>D772274</td>\n      <td>0</td>\n    </tr>\n    <tr>\n      <th>3</th>\n      <td>6.730981</td>\n      <td>0.362539</td>\n      <td>0.205607</td>\n      <td>7.729339</td>\n      <td>5246</td>\n      <td>56</td>\n      <td>4</td>\n      <td>41</td>\n      <td>1104031</td>\n      <td>D3335222</td>\n      <td>0</td>\n    </tr>\n    <tr>\n      <th>4</th>\n      <td>6.730981</td>\n      <td>0.362539</td>\n      <td>0.205607</td>\n      <td>7.729339</td>\n      <td>5245</td>\n      <td>55</td>\n      <td>4</td>\n      <td>41</td>\n      <td>1104031</td>\n      <td>D67568</td>\n      <td>0</td>\n    </tr>\n    <tr>\n      <th>...</th>\n      <td>...</td>\n      <td>...</td>\n      <td>...</td>\n      <td>...</td>\n      <td>...</td>\n      <td>...</td>\n      <td>...</td>\n      <td>...</td>\n      <td>...</td>\n      <td>...</td>\n      <td>...</td>\n    </tr>\n    <tr>\n      <th>19995</th>\n      <td>5.935711</td>\n      <td>0.079121</td>\n      <td>0.042961</td>\n      <td>8.578480</td>\n      <td>16495</td>\n      <td>68</td>\n      <td>5</td>\n      <td>24</td>\n      <td>634428</td>\n      <td>D1138539</td>\n      <td>0</td>\n    </tr>\n    <tr>\n      <th>19996</th>\n      <td>5.539033</td>\n      <td>0.168392</td>\n      <td>0.043974</td>\n      <td>8.578480</td>\n      <td>4351</td>\n      <td>61</td>\n      <td>6</td>\n      <td>24</td>\n      <td>634428</td>\n      <td>D1464474</td>\n      <td>0</td>\n    </tr>\n    <tr>\n      <th>19997</th>\n      <td>5.357733</td>\n      <td>0.128297</td>\n      <td>0.035461</td>\n      <td>8.578480</td>\n      <td>7336</td>\n      <td>63</td>\n      <td>7</td>\n      <td>24</td>\n      <td>634428</td>\n      <td>D537515</td>\n      <td>0</td>\n    </tr>\n    <tr>\n      <th>19998</th>\n      <td>6.852679</td>\n      <td>0.069790</td>\n      <td>0.017391</td>\n      <td>8.578480</td>\n      <td>23751</td>\n      <td>61</td>\n      <td>6</td>\n      <td>24</td>\n      <td>634428</td>\n      <td>D228927</td>\n      <td>0</td>\n    </tr>\n    <tr>\n      <th>19999</th>\n      <td>5.771720</td>\n      <td>0.123527</td>\n      <td>0.032658</td>\n      <td>8.578480</td>\n      <td>13102</td>\n      <td>61</td>\n      <td>7</td>\n      <td>24</td>\n      <td>634428</td>\n      <td>D3151004</td>\n      <td>0</td>\n    </tr>\n  </tbody>\n</table>\n<p>20000 rows × 11 columns</p>\n</div>"
     },
     "execution_count": 127,
     "metadata": {},
     "output_type": "execute_result"
    }
   ],
   "source": [
    "# feature_rows['relevant']\n",
    "dev_results['relevance'] = model.predict(feature_rows)\n",
    "dev_results"
   ],
   "metadata": {
    "collapsed": false,
    "pycharm": {
     "name": "#%%\n"
    }
   }
  },
  {
   "cell_type": "code",
   "execution_count": 128,
   "outputs": [
    {
     "data": {
      "text/plain": "              1         2         3          4      5    6  7   8     q_id  \\\n6423   5.310766  0.085765  0.026732   7.097959  61766   46  4  25  1136427   \n6425   5.592947  0.141030  0.038084   7.097959  60141   37  4  25  1136427   \n6455   5.177349  0.136375  0.036301   7.097959  57059   52  4  25  1136427   \n6483   5.343661  0.134607  0.035132   7.097959  78045   33  4  25  1136427   \n6484   5.343661  0.134519  0.035109   7.097959  78096   48  4  25  1136427   \n...         ...       ...       ...        ...    ...  ... ..  ..      ...   \n5466  15.143692  0.114327  0.039451  24.491484   4599  110  7  42    11096   \n5467  17.286839  0.138549  0.026405  24.491484  29348   53  4  42    11096   \n5470  15.549438  0.164178  0.025352  24.491484  19267   88  7  42    11096   \n5484  14.233579  0.119082  0.021397  24.491484  10854   44  4  42    11096   \n5499  12.988480  0.127941  0.042194  24.491484   1595   66  4  42    11096   \n\n        doc_id  relevance  \n6423  D1238297          1  \n6425  D1238298          1  \n6455   D717552          1  \n6483  D1005548          1  \n6484  D1326552          1  \n...        ...        ...  \n5466  D2861657          0  \n5467   D705298          0  \n5470   D950225          0  \n5484  D3528060          0  \n5499  D1168781          0  \n\n[20000 rows x 11 columns]",
      "text/html": "<div>\n<style scoped>\n    .dataframe tbody tr th:only-of-type {\n        vertical-align: middle;\n    }\n\n    .dataframe tbody tr th {\n        vertical-align: top;\n    }\n\n    .dataframe thead th {\n        text-align: right;\n    }\n</style>\n<table border=\"1\" class=\"dataframe\">\n  <thead>\n    <tr style=\"text-align: right;\">\n      <th></th>\n      <th>1</th>\n      <th>2</th>\n      <th>3</th>\n      <th>4</th>\n      <th>5</th>\n      <th>6</th>\n      <th>7</th>\n      <th>8</th>\n      <th>q_id</th>\n      <th>doc_id</th>\n      <th>relevance</th>\n    </tr>\n  </thead>\n  <tbody>\n    <tr>\n      <th>6423</th>\n      <td>5.310766</td>\n      <td>0.085765</td>\n      <td>0.026732</td>\n      <td>7.097959</td>\n      <td>61766</td>\n      <td>46</td>\n      <td>4</td>\n      <td>25</td>\n      <td>1136427</td>\n      <td>D1238297</td>\n      <td>1</td>\n    </tr>\n    <tr>\n      <th>6425</th>\n      <td>5.592947</td>\n      <td>0.141030</td>\n      <td>0.038084</td>\n      <td>7.097959</td>\n      <td>60141</td>\n      <td>37</td>\n      <td>4</td>\n      <td>25</td>\n      <td>1136427</td>\n      <td>D1238298</td>\n      <td>1</td>\n    </tr>\n    <tr>\n      <th>6455</th>\n      <td>5.177349</td>\n      <td>0.136375</td>\n      <td>0.036301</td>\n      <td>7.097959</td>\n      <td>57059</td>\n      <td>52</td>\n      <td>4</td>\n      <td>25</td>\n      <td>1136427</td>\n      <td>D717552</td>\n      <td>1</td>\n    </tr>\n    <tr>\n      <th>6483</th>\n      <td>5.343661</td>\n      <td>0.134607</td>\n      <td>0.035132</td>\n      <td>7.097959</td>\n      <td>78045</td>\n      <td>33</td>\n      <td>4</td>\n      <td>25</td>\n      <td>1136427</td>\n      <td>D1005548</td>\n      <td>1</td>\n    </tr>\n    <tr>\n      <th>6484</th>\n      <td>5.343661</td>\n      <td>0.134519</td>\n      <td>0.035109</td>\n      <td>7.097959</td>\n      <td>78096</td>\n      <td>48</td>\n      <td>4</td>\n      <td>25</td>\n      <td>1136427</td>\n      <td>D1326552</td>\n      <td>1</td>\n    </tr>\n    <tr>\n      <th>...</th>\n      <td>...</td>\n      <td>...</td>\n      <td>...</td>\n      <td>...</td>\n      <td>...</td>\n      <td>...</td>\n      <td>...</td>\n      <td>...</td>\n      <td>...</td>\n      <td>...</td>\n      <td>...</td>\n    </tr>\n    <tr>\n      <th>5466</th>\n      <td>15.143692</td>\n      <td>0.114327</td>\n      <td>0.039451</td>\n      <td>24.491484</td>\n      <td>4599</td>\n      <td>110</td>\n      <td>7</td>\n      <td>42</td>\n      <td>11096</td>\n      <td>D2861657</td>\n      <td>0</td>\n    </tr>\n    <tr>\n      <th>5467</th>\n      <td>17.286839</td>\n      <td>0.138549</td>\n      <td>0.026405</td>\n      <td>24.491484</td>\n      <td>29348</td>\n      <td>53</td>\n      <td>4</td>\n      <td>42</td>\n      <td>11096</td>\n      <td>D705298</td>\n      <td>0</td>\n    </tr>\n    <tr>\n      <th>5470</th>\n      <td>15.549438</td>\n      <td>0.164178</td>\n      <td>0.025352</td>\n      <td>24.491484</td>\n      <td>19267</td>\n      <td>88</td>\n      <td>7</td>\n      <td>42</td>\n      <td>11096</td>\n      <td>D950225</td>\n      <td>0</td>\n    </tr>\n    <tr>\n      <th>5484</th>\n      <td>14.233579</td>\n      <td>0.119082</td>\n      <td>0.021397</td>\n      <td>24.491484</td>\n      <td>10854</td>\n      <td>44</td>\n      <td>4</td>\n      <td>42</td>\n      <td>11096</td>\n      <td>D3528060</td>\n      <td>0</td>\n    </tr>\n    <tr>\n      <th>5499</th>\n      <td>12.988480</td>\n      <td>0.127941</td>\n      <td>0.042194</td>\n      <td>24.491484</td>\n      <td>1595</td>\n      <td>66</td>\n      <td>4</td>\n      <td>42</td>\n      <td>11096</td>\n      <td>D1168781</td>\n      <td>0</td>\n    </tr>\n  </tbody>\n</table>\n<p>20000 rows × 11 columns</p>\n</div>"
     },
     "execution_count": 128,
     "metadata": {},
     "output_type": "execute_result"
    }
   ],
   "source": [
    "# output = dev_results.groupby('q_id').apply(lambda x: x.sort_values(by=\"relevance\", ascending=False))\n",
    "output = dev_results.sort_values(['q_id', 'relevance'], ascending=False)\n",
    "output"
   ],
   "metadata": {
    "collapsed": false,
    "pycharm": {
     "name": "#%%\n"
    }
   }
  },
  {
   "cell_type": "code",
   "execution_count": 129,
   "outputs": [],
   "source": [
    "output.reset_index(inplace=True)"
   ],
   "metadata": {
    "collapsed": false,
    "pycharm": {
     "name": "#%%\n"
    }
   }
  },
  {
   "cell_type": "code",
   "execution_count": 130,
   "outputs": [
    {
     "name": "stdout",
     "output_type": "stream",
     "text": [
      "\n",
      "Took 7.008204221725464s to finish\n"
     ]
    }
   ],
   "source": [
    "import time\n",
    "\n",
    "start = time.time()\n",
    "\n",
    "print()\n",
    "with open('l2r_baseline_output.trec', 'w') as fout:\n",
    "    for i in range(output['q_id'].count()):\n",
    "        score = 1.0 / int(i+1)\n",
    "        fout.write(f'{output.loc[i][\"q_id\"]} Q0 {output.loc[i][\"doc_id\"]} {i%100} {score} anserini\\n')\n",
    "\n",
    "print(f'Took {time.time() - start}s to finish')"
   ],
   "metadata": {
    "collapsed": false,
    "pycharm": {
     "name": "#%%\n"
    }
   }
  },
  {
   "cell_type": "code",
   "execution_count": 130,
   "outputs": [],
   "source": [],
   "metadata": {
    "collapsed": false,
    "pycharm": {
     "name": "#%%\n"
    }
   }
  }
 ],
 "metadata": {
  "kernelspec": {
   "display_name": "Python 3",
   "language": "python",
   "name": "python3"
  },
  "language_info": {
   "codemirror_mode": {
    "name": "ipython",
    "version": 2
   },
   "file_extension": ".py",
   "mimetype": "text/x-python",
   "name": "python",
   "nbconvert_exporter": "python",
   "pygments_lexer": "ipython2",
   "version": "2.7.6"
  }
 },
 "nbformat": 4,
 "nbformat_minor": 0
}