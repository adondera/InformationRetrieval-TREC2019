{
 "cells": [
  {
   "cell_type": "code",
   "execution_count": 28,
   "outputs": [],
   "source": [
    "from collections import defaultdict\n",
    "import tqdm\n",
    "import spacy\n",
    "import csv\n",
    "from pyserini.search import SimpleSearcher\n"
   ],
   "metadata": {
    "collapsed": false,
    "pycharm": {
     "name": "#%%\n"
    }
   }
  },
  {
   "cell_type": "code",
   "execution_count": 2,
   "outputs": [],
   "source": [
    "nlp = spacy.load('en_core_web_sm')\n",
    "searcher = SimpleSearcher('indexes/lucene-index-msmarco-doc')"
   ],
   "metadata": {
    "collapsed": false,
    "pycharm": {
     "name": "#%%\n"
    }
   }
  },
  {
   "cell_type": "code",
   "execution_count": 29,
   "outputs": [],
   "source": [
    "querystring = {}\n",
    "with open(\"dev/queries.docdev.tsv\", encoding='utf8') as f:\n",
    "    tsvreader = csv.reader(f, delimiter=\"\\t\")\n",
    "    for [topicid, querystring_of_topicid] in tsvreader:\n",
    "        querystring[topicid] = querystring_of_topicid"
   ],
   "metadata": {
    "collapsed": false,
    "pycharm": {
     "name": "#%%\n"
    }
   }
  },
  {
   "cell_type": "code",
   "execution_count": 59,
   "outputs": [],
   "source": [
    "improved_metrics = defaultdict(dict)\n",
    "with open('query_state_distilbert') as f:\n",
    "    results = f.readlines()\n",
    "    for line in results:\n",
    "        x, y, z = line.split()\n",
    "        improved_metrics[y][x] = float(z)"
   ],
   "metadata": {
    "collapsed": false,
    "pycharm": {
     "name": "#%%\n"
    }
   }
  },
  {
   "cell_type": "code",
   "execution_count": 53,
   "outputs": [],
   "source": [
    "initial_metrics = defaultdict(dict)\n",
    "with open('initial_dev_stats') as f:\n",
    "    results = f.readlines()\n",
    "    for line in results:\n",
    "        x, y, z = line.split()\n",
    "        initial_metrics[y][x] = float(z)"
   ],
   "metadata": {
    "collapsed": false,
    "pycharm": {
     "name": "#%%\n"
    }
   }
  },
  {
   "cell_type": "code",
   "execution_count": 62,
   "outputs": [
    {
     "name": "stderr",
     "output_type": "stream",
     "text": [
      "100%|██████████| 519300/519300 [00:01<00:00, 279798.18it/s]\n"
     ]
    }
   ],
   "source": [
    "queries_to_docs = defaultdict(list)\n",
    "queries_to_score = defaultdict(dict)\n",
    "docs_to_text = {}\n",
    "with open('results/dev-bm25-100.trec') as f:\n",
    "    lines = f.readlines()\n",
    "    for line in tqdm.tqdm(lines):\n",
    "        query_id, _, doc_id, rank, score, _ = line.split()\n",
    "        if query_id in improved_metrics:\n",
    "            queries_to_docs[query_id].append(doc_id)\n",
    "            queries_to_score[query_id][doc_id] = float(score)\n",
    "            docs_to_text[doc_id] = searcher.doc(doc_id).contents().replace('\\n', ' ')"
   ],
   "metadata": {
    "collapsed": false,
    "pycharm": {
     "name": "#%%\n"
    }
   }
  },
  {
   "cell_type": "code",
   "execution_count": 82,
   "metadata": {
    "collapsed": true
   },
   "outputs": [
    {
     "data": {
      "text/plain": "[(0.0256, 1.0, 0.0256, '36703', 'average gas prices in ga'),\n (0.0646, 0.5, 0.0323, '466252', 'nuclear definition in science'),\n (0.0833, 1.0, 0.0833, '900599', 'what team does will johnson play for'),\n (0.128, 0.1, 0.0128, '1075656', 'what is a chad'),\n (0.128, 0.2, 0.0256, '1102335', 'why do people buy cars'),\n (0.1666, 0.5, 0.0833, '1059045', 'what is cameroon most important resource'),\n (0.1667, 1.0, 0.1667, '1096911', 'average income for a flight engineer'),\n (0.16681668166816682, 0.3333, 0.0556, '419692', 'is ocd a disease?'),\n (0.2,\n  1.0,\n  0.2,\n  '1097909',\n  'how long is treatment for a vaginal yeast infection'),\n (0.3636, 0.25, 0.0909, '998591', 'where is mathura'),\n (0.40011997600479904, 0.1667, 0.0667, '934223', \"what's your favorite pet\"),\n (0.5,\n  0.5,\n  0.25,\n  '1031682',\n  'what is the surface area of the square pyramid?'),\n (0.5,\n  0.5,\n  0.25,\n  '1033927',\n  'what is the purpose of a conceptual model for advanced practice nursing'),\n (0.5, 0.5, 0.25, '367290', 'how to make a afk pool minecraft'),\n (0.5, 1.0, 0.5, '392488', 'iis post size limit'),\n (0.5, 1.0, 0.5, '400696', 'is a procedure considered a medical error'),\n (0.5, 1.0, 0.5, '430985', 'is vitamin e considered a blood thinner'),\n (0.5, 1.0, 0.5, '906126', 'what to call a graduation speech'),\n (0.5, 1.0, 0.5, '934964', 'when    was  kemi born'),\n (0.5716, 0.25, 0.1429, '1051339', 'what is medical aki'),\n (0.6000600060006002, 0.3333, 0.2, '1040461', 'who is the grinning man'),\n (0.6426642664266426,\n  0.1111,\n  0.0714,\n  '750946',\n  'what is giada de laurentiis ex husband doing'),\n (0.6666, 0.5, 0.3333, '1083535', 'what does joe maddon use on his hair'),\n (0.6666, 0.5, 0.3333, '1089026', 'vegetables good for diabetic dogs'),\n (0.6666, 0.5, 0.3333, '591026', 'what causes prostate stones'),\n (0.6666, 0.5, 0.3333, '766769', 'what is lomotil adult dosage'),\n (0.7144999999999999,\n  0.2,\n  0.1429,\n  '1094691',\n  'ideal culture can be defined as what'),\n (0.8, 0.125, 0.1, '442593', 'longest punt in nfl'),\n (0.8, 0.25, 0.2, '1087722', 'what are catgut strings?'),\n (0.8572285542891422, 0.1667, 0.1429, '548673', 'wget http files')]"
     },
     "execution_count": 82,
     "metadata": {},
     "output_type": "execute_result"
    }
   ],
   "source": [
    "improved_queries = []\n",
    "for q_id in improved_metrics:\n",
    "    s1 = improved_metrics[q_id]['recip_rank']\n",
    "    s2 = initial_metrics[q_id]['recip_rank']\n",
    "    # print(s1)\n",
    "    # print(s2)\n",
    "    if s1 > s2 and s1 >= 0.1:\n",
    "        if q_id != 'all':\n",
    "            improved_queries.append((s2/s1, s1, s2, q_id, querystring[q_id]))\n",
    "improved_queries.sort()\n",
    "improved_queries"
   ]
  },
  {
   "cell_type": "code",
   "execution_count": 85,
   "outputs": [
    {
     "data": {
      "text/plain": "'D1265159'"
     },
     "execution_count": 85,
     "metadata": {},
     "output_type": "execute_result"
    }
   ],
   "source": [
    "queries_to_docs['466252'][0]"
   ],
   "metadata": {
    "collapsed": false,
    "pycharm": {
     "name": "#%%\n"
    }
   }
  },
  {
   "cell_type": "code",
   "execution_count": 87,
   "outputs": [
    {
     "data": {
      "text/plain": "\"<TEXT> http://www.ansto.gov.au/NuclearFacts/AboutNuclearScience/ About nuclear science About nuclear science What is nuclear science? Nuclear science is the study of the atomic world. In nuclear science, the word 'nuclear' means 'of or relating to or constituting the nucleus of an atom'. Atoms are the fundamental constituents of everything around us, and we ourselves are entirely composed of them. This means that nuclear science is crucial to understanding our universe, our world and ourselves at the atomic level. Discover more. Natural background radiation We are all exposed constantly to ionising radiation from a variety of natural and artificial sources. The sun is a major source of 'cosmic radiation'. Skiing at high altitudes and airline flights will increase our exposure to cosmic radiation. Many buildings also emit ionising radiation simply because the materials that were used to build them (clay bricks, granite, etc) are naturally radioactive. These are all examples of 'background radiation'. Discover more. Radioactivity and radiation'Radioactivity' is the energy and mass released by spontaneous changes in the nucleus of an atom. However, 'Radiation' is energy that travels ('radiates') as waves or particles. Heat, light, sound, microwaves, radar, radio waves, X-rays, alpha and beta particles, and gamma rays are all forms of radiation. Discover more. Measuring radiation Find answers to some commonly asked questions such as: How do we measure radiation? What is the difference between activity and exposure? How is exposure expressed? What are some of the average levels of medical radiation exposure per treatment? What about average background radiation and occupational radiation exposure? Discover more. Radioisotopes Radioisotopes are radioactive isotopes of an element. Different isotopes of the same element have the same number of protons in their atomic nuclei but differing numbers of neutrons. They can also be defined as atoms that contain an unstable combination of neutrons and protons. Discover more. Managing radioactive waste ANSTO places the highest priority on the safe management of its radioactive waste and used fuel. Radioactive waste contains radioactive elements that send out higher levels of radiation than natural background radiation. Radioactive waste can be classified into three main categories - low, intermediate and high. Discover more. Working with radiation Based on international best practice, ANSTO's safety management process includes a system for managing radiological safety. Discover more. Reactors and accelerators Research reactors have the primary purpose of providing a source of neutrons - subatomic particles produced when uranium atoms split. For a wide range of applications, including the investigation of materials, the irradiation of silicon for industrial uses, and for the production of radioisotopes used in nuclear medicine. Find out more about Research reactors. Discover more. Other nuclear information Benefits of nuclear science Managing radioactive waste Glossary of nuclear terms What is radiation?  </TEXT>\""
     },
     "execution_count": 87,
     "metadata": {},
     "output_type": "execute_result"
    }
   ],
   "source": [
    "searcher.doc('D614936').contents().replace('\\n', ' ')"
   ],
   "metadata": {
    "collapsed": false,
    "pycharm": {
     "name": "#%%\n"
    }
   }
  }
 ],
 "metadata": {
  "kernelspec": {
   "display_name": "Python 3",
   "language": "python",
   "name": "python3"
  },
  "language_info": {
   "codemirror_mode": {
    "name": "ipython",
    "version": 2
   },
   "file_extension": ".py",
   "mimetype": "text/x-python",
   "name": "python",
   "nbconvert_exporter": "python",
   "pygments_lexer": "ipython2",
   "version": "2.7.6"
  }
 },
 "nbformat": 4,
 "nbformat_minor": 0
}